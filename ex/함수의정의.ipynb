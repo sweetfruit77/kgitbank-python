{
 "cells": [
  {
   "cell_type": "markdown",
   "metadata": {},
   "source": [
    "### 함수의 정의"
   ]
  },
  {
   "cell_type": "code",
   "execution_count": 6,
   "metadata": {},
   "outputs": [],
   "source": [
    "def fibonacci(n):\n",
    "    '''n값 미만까지 피보나치수열을 출력합니다'''\n",
    "    a,b=0,1\n",
    "    while a<n:\n",
    "        print(a,end=' ')\n",
    "        a,b=b,a+b\n",
    "    print()"
   ]
  },
  {
   "cell_type": "code",
   "execution_count": 7,
   "metadata": {},
   "outputs": [
    {
     "name": "stdout",
     "output_type": "stream",
     "text": [
      "0 1 1 2 3 5 8 13 21 34 55 89 144 233 377 610 987 1597 \n"
     ]
    }
   ],
   "source": [
    "fibonacci(2000)"
   ]
  },
  {
   "cell_type": "markdown",
   "metadata": {},
   "source": [
    "### docstring\n",
    "- 함수 본문 첫번째 문은 함수의 설명서 문자열 또는 docstring입니다."
   ]
  },
  {
   "cell_type": "code",
   "execution_count": 10,
   "metadata": {},
   "outputs": [
    {
     "name": "stdout",
     "output_type": "stream",
     "text": [
      "n값 미만까지 피보나치수열을 출력합니다\n"
     ]
    }
   ],
   "source": [
    "print(fibonacci.__doc__)"
   ]
  },
  {
   "cell_type": "code",
   "execution_count": 11,
   "metadata": {},
   "outputs": [
    {
     "data": {
      "text/plain": [
       "['__annotations__',\n",
       " '__call__',\n",
       " '__class__',\n",
       " '__closure__',\n",
       " '__code__',\n",
       " '__defaults__',\n",
       " '__delattr__',\n",
       " '__dict__',\n",
       " '__dir__',\n",
       " '__doc__',\n",
       " '__eq__',\n",
       " '__format__',\n",
       " '__ge__',\n",
       " '__get__',\n",
       " '__getattribute__',\n",
       " '__globals__',\n",
       " '__gt__',\n",
       " '__hash__',\n",
       " '__init__',\n",
       " '__init_subclass__',\n",
       " '__kwdefaults__',\n",
       " '__le__',\n",
       " '__lt__',\n",
       " '__module__',\n",
       " '__name__',\n",
       " '__ne__',\n",
       " '__new__',\n",
       " '__qualname__',\n",
       " '__reduce__',\n",
       " '__reduce_ex__',\n",
       " '__repr__',\n",
       " '__setattr__',\n",
       " '__sizeof__',\n",
       " '__str__',\n",
       " '__subclasshook__']"
      ]
     },
     "execution_count": 11,
     "metadata": {},
     "output_type": "execute_result"
    }
   ],
   "source": [
    "dir(fibonacci)"
   ]
  },
  {
   "cell_type": "markdown",
   "metadata": {},
   "source": [
    "### 변수의 참조"
   ]
  },
  {
   "cell_type": "code",
   "execution_count": 14,
   "metadata": {},
   "outputs": [],
   "source": [
    "global_var=100\n",
    "def func1():\n",
    "    print(global_var)"
   ]
  },
  {
   "cell_type": "code",
   "execution_count": 15,
   "metadata": {},
   "outputs": [
    {
     "name": "stdout",
     "output_type": "stream",
     "text": [
      "100\n"
     ]
    }
   ],
   "source": [
    "func1()"
   ]
  },
  {
   "cell_type": "code",
   "execution_count": 21,
   "metadata": {},
   "outputs": [
    {
     "name": "stdout",
     "output_type": "stream",
     "text": [
      "100\n"
     ]
    }
   ],
   "source": [
    "def func2():\n",
    "    print(global_var) #1 \n",
    "    global_var=200\n",
    "    print(global_var) #2"
   ]
  },
  {
   "cell_type": "code",
   "execution_count": 22,
   "metadata": {},
   "outputs": [
    {
     "ename": "UnboundLocalError",
     "evalue": "local variable 'global_var' referenced before assignment",
     "output_type": "error",
     "traceback": [
      "\u001b[1;31m---------------------------------------------------------------------------\u001b[0m",
      "\u001b[1;31mUnboundLocalError\u001b[0m                         Traceback (most recent call last)",
      "\u001b[1;32m<ipython-input-22-1159c30513e1>\u001b[0m in \u001b[0;36m<module>\u001b[1;34m()\u001b[0m\n\u001b[1;32m----> 1\u001b[1;33m \u001b[0mfunc2\u001b[0m\u001b[1;33m(\u001b[0m\u001b[1;33m)\u001b[0m\u001b[1;33m\u001b[0m\u001b[0m\n\u001b[0m",
      "\u001b[1;32m<ipython-input-21-59f112a64ac3>\u001b[0m in \u001b[0;36mfunc2\u001b[1;34m()\u001b[0m\n\u001b[0;32m      1\u001b[0m \u001b[1;32mdef\u001b[0m \u001b[0mfunc2\u001b[0m\u001b[1;33m(\u001b[0m\u001b[1;33m)\u001b[0m\u001b[1;33m:\u001b[0m\u001b[1;33m\u001b[0m\u001b[0m\n\u001b[1;32m----> 2\u001b[1;33m     \u001b[0mprint\u001b[0m\u001b[1;33m(\u001b[0m\u001b[0mglobal_var\u001b[0m\u001b[1;33m)\u001b[0m \u001b[1;31m#1\u001b[0m\u001b[1;33m\u001b[0m\u001b[0m\n\u001b[0m\u001b[0;32m      3\u001b[0m     \u001b[0mglobal_var\u001b[0m\u001b[1;33m=\u001b[0m\u001b[1;36m200\u001b[0m\u001b[1;33m\u001b[0m\u001b[0m\n\u001b[0;32m      4\u001b[0m \u001b[0mprint\u001b[0m\u001b[1;33m(\u001b[0m\u001b[0mglobal_var\u001b[0m\u001b[1;33m)\u001b[0m \u001b[1;31m#2\u001b[0m\u001b[1;33m\u001b[0m\u001b[0m\n",
      "\u001b[1;31mUnboundLocalError\u001b[0m: local variable 'global_var' referenced before assignment"
     ]
    }
   ],
   "source": [
    "func2()"
   ]
  },
  {
   "cell_type": "markdown",
   "metadata": {},
   "source": [
    "### 함수 이름 변경"
   ]
  },
  {
   "cell_type": "code",
   "execution_count": 23,
   "metadata": {},
   "outputs": [
    {
     "name": "stdout",
     "output_type": "stream",
     "text": [
      "0 1 1 2 3 5 8 13 21 34 55 89 144 233 377 610 987 1597 \n"
     ]
    }
   ],
   "source": [
    "f=fibonacci\n",
    "f(2000)"
   ]
  },
  {
   "cell_type": "code",
   "execution_count": 25,
   "metadata": {},
   "outputs": [
    {
     "name": "stdout",
     "output_type": "stream",
     "text": [
      "0 1 1 2 3 5 8 13 21 34 55 89 144 233 377 610 987 1597 \n"
     ]
    },
    {
     "data": {
      "text/plain": [
       "2031472171616"
      ]
     },
     "execution_count": 25,
     "metadata": {},
     "output_type": "execute_result"
    }
   ],
   "source": [
    "fibonacci(2000)\n",
    "id(f)"
   ]
  },
  {
   "cell_type": "code",
   "execution_count": 26,
   "metadata": {},
   "outputs": [
    {
     "data": {
      "text/plain": [
       "2031472171616"
      ]
     },
     "execution_count": 26,
     "metadata": {},
     "output_type": "execute_result"
    }
   ],
   "source": [
    "id(fibonacci)"
   ]
  },
  {
   "cell_type": "markdown",
   "metadata": {},
   "source": [
    "### 리턴 값이 없는 함수"
   ]
  },
  {
   "cell_type": "code",
   "execution_count": 27,
   "metadata": {},
   "outputs": [
    {
     "name": "stdout",
     "output_type": "stream",
     "text": [
      "0 1 1 2 3 5 8 13 21 34 55 89 144 \n"
     ]
    }
   ],
   "source": [
    "f200 = fibonacci(200)"
   ]
  },
  {
   "cell_type": "code",
   "execution_count": 30,
   "metadata": {},
   "outputs": [],
   "source": [
    "f200"
   ]
  },
  {
   "cell_type": "code",
   "execution_count": 31,
   "metadata": {},
   "outputs": [
    {
     "ename": "TypeError",
     "evalue": "'NoneType' object is not callable",
     "output_type": "error",
     "traceback": [
      "\u001b[1;31m---------------------------------------------------------------------------\u001b[0m",
      "\u001b[1;31mTypeError\u001b[0m                                 Traceback (most recent call last)",
      "\u001b[1;32m<ipython-input-31-a380534fcffd>\u001b[0m in \u001b[0;36m<module>\u001b[1;34m()\u001b[0m\n\u001b[1;32m----> 1\u001b[1;33m \u001b[0mf200\u001b[0m\u001b[1;33m(\u001b[0m\u001b[1;36m10\u001b[0m\u001b[1;33m)\u001b[0m\u001b[1;33m\u001b[0m\u001b[0m\n\u001b[0m",
      "\u001b[1;31mTypeError\u001b[0m: 'NoneType' object is not callable"
     ]
    }
   ],
   "source": [
    "f200(10)"
   ]
  },
  {
   "cell_type": "markdown",
   "metadata": {},
   "source": [
    "### 리턴 값이 있는 함수"
   ]
  },
  {
   "cell_type": "code",
   "execution_count": 32,
   "metadata": {},
   "outputs": [],
   "source": [
    "def fibonacci2(n):\n",
    "    '''n값 미만까지 피보나치수열을 출력합니다.'''\n",
    "    result=[]\n",
    "    a,b=0,1\n",
    "    while a<n:\n",
    "        result.append(a)\n",
    "        a,b=b,a+b\n",
    "    return result"
   ]
  },
  {
   "cell_type": "code",
   "execution_count": 33,
   "metadata": {},
   "outputs": [],
   "source": [
    "f100=fibonacci2(100)"
   ]
  },
  {
   "cell_type": "code",
   "execution_count": 34,
   "metadata": {},
   "outputs": [
    {
     "data": {
      "text/plain": [
       "[0, 1, 1, 2, 3, 5, 8, 13, 21, 34, 55, 89]"
      ]
     },
     "execution_count": 34,
     "metadata": {},
     "output_type": "execute_result"
    }
   ],
   "source": [
    "f100"
   ]
  },
  {
   "cell_type": "code",
   "execution_count": 36,
   "metadata": {},
   "outputs": [
    {
     "name": "stdout",
     "output_type": "stream",
     "text": [
      "[0, 1, 1, 2, 3, 5, 8, 13, 21, 34, 55, 89]\n"
     ]
    }
   ],
   "source": [
    "print(fibonacci2(100))"
   ]
  },
  {
   "cell_type": "code",
   "execution_count": 38,
   "metadata": {},
   "outputs": [
    {
     "name": "stdout",
     "output_type": "stream",
     "text": [
      "[0, 1, 1, 2, 3, 5, 8, 13, 21, 34, 55, 89]\n"
     ]
    }
   ],
   "source": [
    "print(f100)"
   ]
  },
  {
   "cell_type": "markdown",
   "metadata": {},
   "source": [
    "### 여러 개 값 리턴"
   ]
  },
  {
   "cell_type": "code",
   "execution_count": 39,
   "metadata": {},
   "outputs": [],
   "source": [
    "def swap(a,b):\n",
    "    return b,a"
   ]
  },
  {
   "cell_type": "code",
   "execution_count": 40,
   "metadata": {},
   "outputs": [],
   "source": [
    "a=swap(1,2)"
   ]
  },
  {
   "cell_type": "code",
   "execution_count": 41,
   "metadata": {},
   "outputs": [
    {
     "data": {
      "text/plain": [
       "tuple"
      ]
     },
     "execution_count": 41,
     "metadata": {},
     "output_type": "execute_result"
    }
   ],
   "source": [
    "type(a)"
   ]
  },
  {
   "cell_type": "code",
   "execution_count": 42,
   "metadata": {},
   "outputs": [
    {
     "name": "stdout",
     "output_type": "stream",
     "text": [
      "(2, 1)\n"
     ]
    }
   ],
   "source": [
    "print(a)"
   ]
  },
  {
   "cell_type": "code",
   "execution_count": 43,
   "metadata": {},
   "outputs": [],
   "source": [
    "x,y=swap(1,2)"
   ]
  },
  {
   "cell_type": "code",
   "execution_count": 44,
   "metadata": {},
   "outputs": [
    {
     "name": "stdout",
     "output_type": "stream",
     "text": [
      "2 1\n"
     ]
    }
   ],
   "source": [
    "print(x,y)"
   ]
  },
  {
   "cell_type": "markdown",
   "metadata": {},
   "source": [
    "### 기본 인수 값"
   ]
  },
  {
   "cell_type": "code",
   "execution_count": 46,
   "metadata": {},
   "outputs": [],
   "source": [
    "def ask_ok(prompt,retries=4,reminder='Please try again!'):\n",
    "    while True:\n",
    "        ok=input(prompt)\n",
    "        if ok in('y','ye','yes'):\n",
    "            return True\n",
    "        if ok in('n','no','nop','nope'):\n",
    "            return False\n",
    "        retries=retries-1\n",
    "        if retries<0:\n",
    "            raise ValueError('invalid user response')\n",
    "        print(reminder)"
   ]
  },
  {
   "cell_type": "code",
   "execution_count": 49,
   "metadata": {},
   "outputs": [
    {
     "name": "stdout",
     "output_type": "stream",
     "text": [
      "Please try again!\n",
      "Please try again!\n"
     ]
    },
    {
     "ename": "ValueError",
     "evalue": "invalid user response",
     "output_type": "error",
     "traceback": [
      "\u001b[1;31m---------------------------------------------------------------------------\u001b[0m",
      "\u001b[1;31mValueError\u001b[0m                                Traceback (most recent call last)",
      "\u001b[1;32m<ipython-input-49-8f30043995a4>\u001b[0m in \u001b[0;36m<module>\u001b[1;34m()\u001b[0m\n\u001b[1;32m----> 1\u001b[1;33m \u001b[0mask_ok\u001b[0m\u001b[1;33m(\u001b[0m\u001b[1;34m'Do you really want to quit?'\u001b[0m\u001b[1;33m,\u001b[0m\u001b[1;36m2\u001b[0m\u001b[1;33m)\u001b[0m\u001b[1;33m\u001b[0m\u001b[0m\n\u001b[0m",
      "\u001b[1;32m<ipython-input-46-39527d8dad6c>\u001b[0m in \u001b[0;36mask_ok\u001b[1;34m(prompt, retries, reminder)\u001b[0m\n\u001b[0;32m      8\u001b[0m         \u001b[0mretries\u001b[0m\u001b[1;33m=\u001b[0m\u001b[0mretries\u001b[0m\u001b[1;33m-\u001b[0m\u001b[1;36m1\u001b[0m\u001b[1;33m\u001b[0m\u001b[0m\n\u001b[0;32m      9\u001b[0m         \u001b[1;32mif\u001b[0m \u001b[0mretries\u001b[0m\u001b[1;33m<\u001b[0m\u001b[1;36m0\u001b[0m\u001b[1;33m:\u001b[0m\u001b[1;33m\u001b[0m\u001b[0m\n\u001b[1;32m---> 10\u001b[1;33m             \u001b[1;32mraise\u001b[0m \u001b[0mValueError\u001b[0m\u001b[1;33m(\u001b[0m\u001b[1;34m'invalid user response'\u001b[0m\u001b[1;33m)\u001b[0m\u001b[1;33m\u001b[0m\u001b[0m\n\u001b[0m\u001b[0;32m     11\u001b[0m         \u001b[0mprint\u001b[0m\u001b[1;33m(\u001b[0m\u001b[0mreminder\u001b[0m\u001b[1;33m)\u001b[0m\u001b[1;33m\u001b[0m\u001b[0m\n",
      "\u001b[1;31mValueError\u001b[0m: invalid user response"
     ]
    }
   ],
   "source": [
    "ask_ok('Do you really want to quit?',2)"
   ]
  },
  {
   "cell_type": "code",
   "execution_count": 50,
   "metadata": {},
   "outputs": [],
   "source": [
    "i=5\n",
    "def func3(arg=i):\n",
    "    print(arg)"
   ]
  },
  {
   "cell_type": "code",
   "execution_count": 51,
   "metadata": {},
   "outputs": [
    {
     "name": "stdout",
     "output_type": "stream",
     "text": [
      "5\n"
     ]
    }
   ],
   "source": [
    "i=6\n",
    "func3()"
   ]
  },
  {
   "cell_type": "code",
   "execution_count": 52,
   "metadata": {},
   "outputs": [
    {
     "data": {
      "text/plain": [
       "{'__name__': '__main__',\n",
       " '__doc__': 'Automatically created module for IPython interactive environment',\n",
       " '__package__': None,\n",
       " '__loader__': None,\n",
       " '__spec__': None,\n",
       " '__builtin__': <module 'builtins' (built-in)>,\n",
       " '__builtins__': <module 'builtins' (built-in)>,\n",
       " '_ih': ['',\n",
       "  '### 함수의 정의',\n",
       "  \"def fibonacci(n):\\n    '''n값 미만까지 피보나치수열을 출력합니다'''\\n    a,b=0,1\\n    while a<n:\\n        print(a,end-'')\\n        a,b=b,a+b\\n    print()\",\n",
       "  'fibonacci(2000)',\n",
       "  \"def fibonacci(n):\\n    '''n값 미만까지 피보나치수열을 출력합니다'''\\n    a,b=0,1\\n    while a<n:\\n        print(a,end='')\\n        a,b=b,a+b\\n    print()\",\n",
       "  'fibonacci(2000)',\n",
       "  \"def fibonacci(n):\\n    '''n값 미만까지 피보나치수열을 출력합니다'''\\n    a,b=0,1\\n    while a<n:\\n        print(a,end=' ')\\n        a,b=b,a+b\\n    print()\",\n",
       "  'fibonacci(2000)',\n",
       "  'print(fibonacci.__doc__)',\n",
       "  '### 변수의 참조',\n",
       "  'print(fibonacci.__doc__)',\n",
       "  'dir(fibonacci)',\n",
       "  'global_var=100\\ndef func1():\\n    print(global_val)',\n",
       "  'func1()',\n",
       "  'global_var=100\\ndef func1():\\n    print(global_var)',\n",
       "  'func1()',\n",
       "  'def func2():\\n    print(global_var)\\n    global_var=200\\n    print(global_var)',\n",
       "  'func2()',\n",
       "  'def func2():\\n    global_var=200\\n    print(global_var) #1\\n    \\n    print(global_var) #2',\n",
       "  'func2()',\n",
       "  'def func2():\\n    print(global_var) #1 \\n    global_var=200\\nprint(global_var) #2',\n",
       "  'def func2():\\n    print(global_var) #1 \\n    global_var=200\\nprint(global_var) #2',\n",
       "  'func2()',\n",
       "  'f=fibonacci\\nf(2000)',\n",
       "  'fibonacci(2000)\\nid(f)\\nid(fibonacci)',\n",
       "  'fibonacci(2000)\\nid(f)',\n",
       "  'id(fibonacci)',\n",
       "  'f200 = fibonacci(200)',\n",
       "  'f200',\n",
       "  'print(f200)',\n",
       "  'f200',\n",
       "  'f200(10)',\n",
       "  \"def fibonacci2(n):\\n    '''n값 미만까지 피보나치수열을 출력합니다.'''\\n    result=[]\\n    a,b=0,1\\n    while a<n:\\n        result.append(a)\\n        a,b=b,a+b\\n    return result\",\n",
       "  'f100=fibonacci2(100)',\n",
       "  'f100',\n",
       "  'print(fibonacch2(100))',\n",
       "  'print(fibonacci2(100))',\n",
       "  'print(f100)',\n",
       "  'print(f100)',\n",
       "  'def swap(a,b):\\n    return b,a',\n",
       "  'a=swap(1,2)',\n",
       "  'type(a)',\n",
       "  'print(a)',\n",
       "  'x,y=swap(1,2)',\n",
       "  'print(x,y)',\n",
       "  '### 기본 인수 값',\n",
       "  \"def ask_ok(prompt,retries=4,reminder='Please try again!'):\\n    while True:\\n        ok=input(prompt)\\n        if ok in('y','ye','yes'):\\n            return True\\n        if ok in('n','no','nop','nope'):\\n            return False\\n        retries=retries-1\\n        if retries<0:\\n            raise ValueError('invalid user response')\\n        print(reminder)\",\n",
       "  \"ask_ok('Do you really want to quit?')\",\n",
       "  \"ask_ok('Do you really want to quit?')\",\n",
       "  \"ask_ok('Do you really want to quit?',2)\",\n",
       "  'i=5\\ndef func3(arg=i):\\n    print(arg)',\n",
       "  'i=6\\nfunc3()',\n",
       "  'globals()'],\n",
       " '_oh': {11: ['__annotations__',\n",
       "   '__call__',\n",
       "   '__class__',\n",
       "   '__closure__',\n",
       "   '__code__',\n",
       "   '__defaults__',\n",
       "   '__delattr__',\n",
       "   '__dict__',\n",
       "   '__dir__',\n",
       "   '__doc__',\n",
       "   '__eq__',\n",
       "   '__format__',\n",
       "   '__ge__',\n",
       "   '__get__',\n",
       "   '__getattribute__',\n",
       "   '__globals__',\n",
       "   '__gt__',\n",
       "   '__hash__',\n",
       "   '__init__',\n",
       "   '__init_subclass__',\n",
       "   '__kwdefaults__',\n",
       "   '__le__',\n",
       "   '__lt__',\n",
       "   '__module__',\n",
       "   '__name__',\n",
       "   '__ne__',\n",
       "   '__new__',\n",
       "   '__qualname__',\n",
       "   '__reduce__',\n",
       "   '__reduce_ex__',\n",
       "   '__repr__',\n",
       "   '__setattr__',\n",
       "   '__sizeof__',\n",
       "   '__str__',\n",
       "   '__subclasshook__'],\n",
       "  24: 2031472171616,\n",
       "  25: 2031472171616,\n",
       "  26: 2031472171616,\n",
       "  34: [0, 1, 1, 2, 3, 5, 8, 13, 21, 34, 55, 89],\n",
       "  41: tuple,\n",
       "  47: False},\n",
       " '_dh': ['D:\\\\pythonProject'],\n",
       " 'In': ['',\n",
       "  '### 함수의 정의',\n",
       "  \"def fibonacci(n):\\n    '''n값 미만까지 피보나치수열을 출력합니다'''\\n    a,b=0,1\\n    while a<n:\\n        print(a,end-'')\\n        a,b=b,a+b\\n    print()\",\n",
       "  'fibonacci(2000)',\n",
       "  \"def fibonacci(n):\\n    '''n값 미만까지 피보나치수열을 출력합니다'''\\n    a,b=0,1\\n    while a<n:\\n        print(a,end='')\\n        a,b=b,a+b\\n    print()\",\n",
       "  'fibonacci(2000)',\n",
       "  \"def fibonacci(n):\\n    '''n값 미만까지 피보나치수열을 출력합니다'''\\n    a,b=0,1\\n    while a<n:\\n        print(a,end=' ')\\n        a,b=b,a+b\\n    print()\",\n",
       "  'fibonacci(2000)',\n",
       "  'print(fibonacci.__doc__)',\n",
       "  '### 변수의 참조',\n",
       "  'print(fibonacci.__doc__)',\n",
       "  'dir(fibonacci)',\n",
       "  'global_var=100\\ndef func1():\\n    print(global_val)',\n",
       "  'func1()',\n",
       "  'global_var=100\\ndef func1():\\n    print(global_var)',\n",
       "  'func1()',\n",
       "  'def func2():\\n    print(global_var)\\n    global_var=200\\n    print(global_var)',\n",
       "  'func2()',\n",
       "  'def func2():\\n    global_var=200\\n    print(global_var) #1\\n    \\n    print(global_var) #2',\n",
       "  'func2()',\n",
       "  'def func2():\\n    print(global_var) #1 \\n    global_var=200\\nprint(global_var) #2',\n",
       "  'def func2():\\n    print(global_var) #1 \\n    global_var=200\\nprint(global_var) #2',\n",
       "  'func2()',\n",
       "  'f=fibonacci\\nf(2000)',\n",
       "  'fibonacci(2000)\\nid(f)\\nid(fibonacci)',\n",
       "  'fibonacci(2000)\\nid(f)',\n",
       "  'id(fibonacci)',\n",
       "  'f200 = fibonacci(200)',\n",
       "  'f200',\n",
       "  'print(f200)',\n",
       "  'f200',\n",
       "  'f200(10)',\n",
       "  \"def fibonacci2(n):\\n    '''n값 미만까지 피보나치수열을 출력합니다.'''\\n    result=[]\\n    a,b=0,1\\n    while a<n:\\n        result.append(a)\\n        a,b=b,a+b\\n    return result\",\n",
       "  'f100=fibonacci2(100)',\n",
       "  'f100',\n",
       "  'print(fibonacch2(100))',\n",
       "  'print(fibonacci2(100))',\n",
       "  'print(f100)',\n",
       "  'print(f100)',\n",
       "  'def swap(a,b):\\n    return b,a',\n",
       "  'a=swap(1,2)',\n",
       "  'type(a)',\n",
       "  'print(a)',\n",
       "  'x,y=swap(1,2)',\n",
       "  'print(x,y)',\n",
       "  '### 기본 인수 값',\n",
       "  \"def ask_ok(prompt,retries=4,reminder='Please try again!'):\\n    while True:\\n        ok=input(prompt)\\n        if ok in('y','ye','yes'):\\n            return True\\n        if ok in('n','no','nop','nope'):\\n            return False\\n        retries=retries-1\\n        if retries<0:\\n            raise ValueError('invalid user response')\\n        print(reminder)\",\n",
       "  \"ask_ok('Do you really want to quit?')\",\n",
       "  \"ask_ok('Do you really want to quit?')\",\n",
       "  \"ask_ok('Do you really want to quit?',2)\",\n",
       "  'i=5\\ndef func3(arg=i):\\n    print(arg)',\n",
       "  'i=6\\nfunc3()',\n",
       "  'globals()'],\n",
       " 'Out': {11: ['__annotations__',\n",
       "   '__call__',\n",
       "   '__class__',\n",
       "   '__closure__',\n",
       "   '__code__',\n",
       "   '__defaults__',\n",
       "   '__delattr__',\n",
       "   '__dict__',\n",
       "   '__dir__',\n",
       "   '__doc__',\n",
       "   '__eq__',\n",
       "   '__format__',\n",
       "   '__ge__',\n",
       "   '__get__',\n",
       "   '__getattribute__',\n",
       "   '__globals__',\n",
       "   '__gt__',\n",
       "   '__hash__',\n",
       "   '__init__',\n",
       "   '__init_subclass__',\n",
       "   '__kwdefaults__',\n",
       "   '__le__',\n",
       "   '__lt__',\n",
       "   '__module__',\n",
       "   '__name__',\n",
       "   '__ne__',\n",
       "   '__new__',\n",
       "   '__qualname__',\n",
       "   '__reduce__',\n",
       "   '__reduce_ex__',\n",
       "   '__repr__',\n",
       "   '__setattr__',\n",
       "   '__sizeof__',\n",
       "   '__str__',\n",
       "   '__subclasshook__'],\n",
       "  24: 2031472171616,\n",
       "  25: 2031472171616,\n",
       "  26: 2031472171616,\n",
       "  34: [0, 1, 1, 2, 3, 5, 8, 13, 21, 34, 55, 89],\n",
       "  41: tuple,\n",
       "  47: False},\n",
       " 'get_ipython': <bound method InteractiveShell.get_ipython of <ipykernel.zmqshell.ZMQInteractiveShell object at 0x000001D8FD117B70>>,\n",
       " 'exit': <IPython.core.autocall.ZMQExitAutocall at 0x1d8fd168fd0>,\n",
       " 'quit': <IPython.core.autocall.ZMQExitAutocall at 0x1d8fd168fd0>,\n",
       " '_': False,\n",
       " '__': tuple,\n",
       " '___': [0, 1, 1, 2, 3, 5, 8, 13, 21, 34, 55, 89],\n",
       " '_i': 'i=6\\nfunc3()',\n",
       " '_ii': 'i=5\\ndef func3(arg=i):\\n    print(arg)',\n",
       " '_iii': \"ask_ok('Do you really want to quit?',2)\",\n",
       " '_i1': '### 함수의 정의',\n",
       " '_i2': \"def fibonacci(n):\\n    '''n값 미만까지 피보나치수열을 출력합니다'''\\n    a,b=0,1\\n    while a<n:\\n        print(a,end-'')\\n        a,b=b,a+b\\n    print()\",\n",
       " 'fibonacci': <function __main__.fibonacci(n)>,\n",
       " '_i3': 'fibonacci(2000)',\n",
       " '_i4': \"def fibonacci(n):\\n    '''n값 미만까지 피보나치수열을 출력합니다'''\\n    a,b=0,1\\n    while a<n:\\n        print(a,end='')\\n        a,b=b,a+b\\n    print()\",\n",
       " '_i5': 'fibonacci(2000)',\n",
       " '_i6': \"def fibonacci(n):\\n    '''n값 미만까지 피보나치수열을 출력합니다'''\\n    a,b=0,1\\n    while a<n:\\n        print(a,end=' ')\\n        a,b=b,a+b\\n    print()\",\n",
       " '_i7': 'fibonacci(2000)',\n",
       " '_i8': 'print(fibonacci.__doc__)',\n",
       " '_i9': '### 변수의 참조',\n",
       " '_i10': 'print(fibonacci.__doc__)',\n",
       " '_i11': 'dir(fibonacci)',\n",
       " '_11': ['__annotations__',\n",
       "  '__call__',\n",
       "  '__class__',\n",
       "  '__closure__',\n",
       "  '__code__',\n",
       "  '__defaults__',\n",
       "  '__delattr__',\n",
       "  '__dict__',\n",
       "  '__dir__',\n",
       "  '__doc__',\n",
       "  '__eq__',\n",
       "  '__format__',\n",
       "  '__ge__',\n",
       "  '__get__',\n",
       "  '__getattribute__',\n",
       "  '__globals__',\n",
       "  '__gt__',\n",
       "  '__hash__',\n",
       "  '__init__',\n",
       "  '__init_subclass__',\n",
       "  '__kwdefaults__',\n",
       "  '__le__',\n",
       "  '__lt__',\n",
       "  '__module__',\n",
       "  '__name__',\n",
       "  '__ne__',\n",
       "  '__new__',\n",
       "  '__qualname__',\n",
       "  '__reduce__',\n",
       "  '__reduce_ex__',\n",
       "  '__repr__',\n",
       "  '__setattr__',\n",
       "  '__sizeof__',\n",
       "  '__str__',\n",
       "  '__subclasshook__'],\n",
       " '_i12': 'global_var=100\\ndef func1():\\n    print(global_val)',\n",
       " 'global_var': 100,\n",
       " 'func1': <function __main__.func1()>,\n",
       " '_i13': 'func1()',\n",
       " '_i14': 'global_var=100\\ndef func1():\\n    print(global_var)',\n",
       " '_i15': 'func1()',\n",
       " '_i16': 'def func2():\\n    print(global_var)\\n    global_var=200\\n    print(global_var)',\n",
       " 'func2': <function __main__.func2()>,\n",
       " '_i17': 'func2()',\n",
       " '_i18': 'def func2():\\n    global_var=200\\n    print(global_var) #1\\n    \\n    print(global_var) #2',\n",
       " '_i19': 'func2()',\n",
       " '_i20': 'def func2():\\n    print(global_var) #1 \\n    global_var=200\\nprint(global_var) #2',\n",
       " '_i21': 'def func2():\\n    print(global_var) #1 \\n    global_var=200\\nprint(global_var) #2',\n",
       " '_i22': 'func2()',\n",
       " '_i23': 'f=fibonacci\\nf(2000)',\n",
       " 'f': <function __main__.fibonacci(n)>,\n",
       " '_i24': 'fibonacci(2000)\\nid(f)\\nid(fibonacci)',\n",
       " '_24': 2031472171616,\n",
       " '_i25': 'fibonacci(2000)\\nid(f)',\n",
       " '_25': 2031472171616,\n",
       " '_i26': 'id(fibonacci)',\n",
       " '_26': 2031472171616,\n",
       " '_i27': 'f200 = fibonacci(200)',\n",
       " 'f200': None,\n",
       " '_i28': 'f200',\n",
       " '_i29': 'print(f200)',\n",
       " '_i30': 'f200',\n",
       " '_i31': 'f200(10)',\n",
       " '_i32': \"def fibonacci2(n):\\n    '''n값 미만까지 피보나치수열을 출력합니다.'''\\n    result=[]\\n    a,b=0,1\\n    while a<n:\\n        result.append(a)\\n        a,b=b,a+b\\n    return result\",\n",
       " 'fibonacci2': <function __main__.fibonacci2(n)>,\n",
       " '_i33': 'f100=fibonacci2(100)',\n",
       " 'f100': [0, 1, 1, 2, 3, 5, 8, 13, 21, 34, 55, 89],\n",
       " '_i34': 'f100',\n",
       " '_34': [0, 1, 1, 2, 3, 5, 8, 13, 21, 34, 55, 89],\n",
       " '_i35': 'print(fibonacch2(100))',\n",
       " '_i36': 'print(fibonacci2(100))',\n",
       " '_i37': 'print(f100)',\n",
       " '_i38': 'print(f100)',\n",
       " '_i39': 'def swap(a,b):\\n    return b,a',\n",
       " 'swap': <function __main__.swap(a, b)>,\n",
       " '_i40': 'a=swap(1,2)',\n",
       " 'a': (2, 1),\n",
       " '_i41': 'type(a)',\n",
       " '_41': tuple,\n",
       " '_i42': 'print(a)',\n",
       " '_i43': 'x,y=swap(1,2)',\n",
       " 'x': 2,\n",
       " 'y': 1,\n",
       " '_i44': 'print(x,y)',\n",
       " '_i45': '### 기본 인수 값',\n",
       " '_i46': \"def ask_ok(prompt,retries=4,reminder='Please try again!'):\\n    while True:\\n        ok=input(prompt)\\n        if ok in('y','ye','yes'):\\n            return True\\n        if ok in('n','no','nop','nope'):\\n            return False\\n        retries=retries-1\\n        if retries<0:\\n            raise ValueError('invalid user response')\\n        print(reminder)\",\n",
       " 'ask_ok': <function __main__.ask_ok(prompt, retries=4, reminder='Please try again!')>,\n",
       " '_i47': \"ask_ok('Do you really want to quit?')\",\n",
       " '_47': False,\n",
       " '_i48': \"ask_ok('Do you really want to quit?')\",\n",
       " '_i49': \"ask_ok('Do you really want to quit?',2)\",\n",
       " '_i50': 'i=5\\ndef func3(arg=i):\\n    print(arg)',\n",
       " 'i': 6,\n",
       " 'func3': <function __main__.func3(arg=5)>,\n",
       " '_i51': 'i=6\\nfunc3()',\n",
       " '_i52': 'globals()'}"
      ]
     },
     "execution_count": 52,
     "metadata": {},
     "output_type": "execute_result"
    }
   ],
   "source": [
    "globals()"
   ]
  },
  {
   "cell_type": "code",
   "execution_count": 53,
   "metadata": {},
   "outputs": [
    {
     "data": {
      "text/plain": [
       "{'__name__': '__main__',\n",
       " '__doc__': 'Automatically created module for IPython interactive environment',\n",
       " '__package__': None,\n",
       " '__loader__': None,\n",
       " '__spec__': None,\n",
       " '__builtin__': <module 'builtins' (built-in)>,\n",
       " '__builtins__': <module 'builtins' (built-in)>,\n",
       " '_ih': ['',\n",
       "  '### 함수의 정의',\n",
       "  \"def fibonacci(n):\\n    '''n값 미만까지 피보나치수열을 출력합니다'''\\n    a,b=0,1\\n    while a<n:\\n        print(a,end-'')\\n        a,b=b,a+b\\n    print()\",\n",
       "  'fibonacci(2000)',\n",
       "  \"def fibonacci(n):\\n    '''n값 미만까지 피보나치수열을 출력합니다'''\\n    a,b=0,1\\n    while a<n:\\n        print(a,end='')\\n        a,b=b,a+b\\n    print()\",\n",
       "  'fibonacci(2000)',\n",
       "  \"def fibonacci(n):\\n    '''n값 미만까지 피보나치수열을 출력합니다'''\\n    a,b=0,1\\n    while a<n:\\n        print(a,end=' ')\\n        a,b=b,a+b\\n    print()\",\n",
       "  'fibonacci(2000)',\n",
       "  'print(fibonacci.__doc__)',\n",
       "  '### 변수의 참조',\n",
       "  'print(fibonacci.__doc__)',\n",
       "  'dir(fibonacci)',\n",
       "  'global_var=100\\ndef func1():\\n    print(global_val)',\n",
       "  'func1()',\n",
       "  'global_var=100\\ndef func1():\\n    print(global_var)',\n",
       "  'func1()',\n",
       "  'def func2():\\n    print(global_var)\\n    global_var=200\\n    print(global_var)',\n",
       "  'func2()',\n",
       "  'def func2():\\n    global_var=200\\n    print(global_var) #1\\n    \\n    print(global_var) #2',\n",
       "  'func2()',\n",
       "  'def func2():\\n    print(global_var) #1 \\n    global_var=200\\nprint(global_var) #2',\n",
       "  'def func2():\\n    print(global_var) #1 \\n    global_var=200\\nprint(global_var) #2',\n",
       "  'func2()',\n",
       "  'f=fibonacci\\nf(2000)',\n",
       "  'fibonacci(2000)\\nid(f)\\nid(fibonacci)',\n",
       "  'fibonacci(2000)\\nid(f)',\n",
       "  'id(fibonacci)',\n",
       "  'f200 = fibonacci(200)',\n",
       "  'f200',\n",
       "  'print(f200)',\n",
       "  'f200',\n",
       "  'f200(10)',\n",
       "  \"def fibonacci2(n):\\n    '''n값 미만까지 피보나치수열을 출력합니다.'''\\n    result=[]\\n    a,b=0,1\\n    while a<n:\\n        result.append(a)\\n        a,b=b,a+b\\n    return result\",\n",
       "  'f100=fibonacci2(100)',\n",
       "  'f100',\n",
       "  'print(fibonacch2(100))',\n",
       "  'print(fibonacci2(100))',\n",
       "  'print(f100)',\n",
       "  'print(f100)',\n",
       "  'def swap(a,b):\\n    return b,a',\n",
       "  'a=swap(1,2)',\n",
       "  'type(a)',\n",
       "  'print(a)',\n",
       "  'x,y=swap(1,2)',\n",
       "  'print(x,y)',\n",
       "  '### 기본 인수 값',\n",
       "  \"def ask_ok(prompt,retries=4,reminder='Please try again!'):\\n    while True:\\n        ok=input(prompt)\\n        if ok in('y','ye','yes'):\\n            return True\\n        if ok in('n','no','nop','nope'):\\n            return False\\n        retries=retries-1\\n        if retries<0:\\n            raise ValueError('invalid user response')\\n        print(reminder)\",\n",
       "  \"ask_ok('Do you really want to quit?')\",\n",
       "  \"ask_ok('Do you really want to quit?')\",\n",
       "  \"ask_ok('Do you really want to quit?',2)\",\n",
       "  'i=5\\ndef func3(arg=i):\\n    print(arg)',\n",
       "  'i=6\\nfunc3()',\n",
       "  'globals()',\n",
       "  'locals()'],\n",
       " '_oh': {11: ['__annotations__',\n",
       "   '__call__',\n",
       "   '__class__',\n",
       "   '__closure__',\n",
       "   '__code__',\n",
       "   '__defaults__',\n",
       "   '__delattr__',\n",
       "   '__dict__',\n",
       "   '__dir__',\n",
       "   '__doc__',\n",
       "   '__eq__',\n",
       "   '__format__',\n",
       "   '__ge__',\n",
       "   '__get__',\n",
       "   '__getattribute__',\n",
       "   '__globals__',\n",
       "   '__gt__',\n",
       "   '__hash__',\n",
       "   '__init__',\n",
       "   '__init_subclass__',\n",
       "   '__kwdefaults__',\n",
       "   '__le__',\n",
       "   '__lt__',\n",
       "   '__module__',\n",
       "   '__name__',\n",
       "   '__ne__',\n",
       "   '__new__',\n",
       "   '__qualname__',\n",
       "   '__reduce__',\n",
       "   '__reduce_ex__',\n",
       "   '__repr__',\n",
       "   '__setattr__',\n",
       "   '__sizeof__',\n",
       "   '__str__',\n",
       "   '__subclasshook__'],\n",
       "  24: 2031472171616,\n",
       "  25: 2031472171616,\n",
       "  26: 2031472171616,\n",
       "  34: [0, 1, 1, 2, 3, 5, 8, 13, 21, 34, 55, 89],\n",
       "  41: tuple,\n",
       "  47: False,\n",
       "  52: {...}},\n",
       " '_dh': ['D:\\\\pythonProject'],\n",
       " 'In': ['',\n",
       "  '### 함수의 정의',\n",
       "  \"def fibonacci(n):\\n    '''n값 미만까지 피보나치수열을 출력합니다'''\\n    a,b=0,1\\n    while a<n:\\n        print(a,end-'')\\n        a,b=b,a+b\\n    print()\",\n",
       "  'fibonacci(2000)',\n",
       "  \"def fibonacci(n):\\n    '''n값 미만까지 피보나치수열을 출력합니다'''\\n    a,b=0,1\\n    while a<n:\\n        print(a,end='')\\n        a,b=b,a+b\\n    print()\",\n",
       "  'fibonacci(2000)',\n",
       "  \"def fibonacci(n):\\n    '''n값 미만까지 피보나치수열을 출력합니다'''\\n    a,b=0,1\\n    while a<n:\\n        print(a,end=' ')\\n        a,b=b,a+b\\n    print()\",\n",
       "  'fibonacci(2000)',\n",
       "  'print(fibonacci.__doc__)',\n",
       "  '### 변수의 참조',\n",
       "  'print(fibonacci.__doc__)',\n",
       "  'dir(fibonacci)',\n",
       "  'global_var=100\\ndef func1():\\n    print(global_val)',\n",
       "  'func1()',\n",
       "  'global_var=100\\ndef func1():\\n    print(global_var)',\n",
       "  'func1()',\n",
       "  'def func2():\\n    print(global_var)\\n    global_var=200\\n    print(global_var)',\n",
       "  'func2()',\n",
       "  'def func2():\\n    global_var=200\\n    print(global_var) #1\\n    \\n    print(global_var) #2',\n",
       "  'func2()',\n",
       "  'def func2():\\n    print(global_var) #1 \\n    global_var=200\\nprint(global_var) #2',\n",
       "  'def func2():\\n    print(global_var) #1 \\n    global_var=200\\nprint(global_var) #2',\n",
       "  'func2()',\n",
       "  'f=fibonacci\\nf(2000)',\n",
       "  'fibonacci(2000)\\nid(f)\\nid(fibonacci)',\n",
       "  'fibonacci(2000)\\nid(f)',\n",
       "  'id(fibonacci)',\n",
       "  'f200 = fibonacci(200)',\n",
       "  'f200',\n",
       "  'print(f200)',\n",
       "  'f200',\n",
       "  'f200(10)',\n",
       "  \"def fibonacci2(n):\\n    '''n값 미만까지 피보나치수열을 출력합니다.'''\\n    result=[]\\n    a,b=0,1\\n    while a<n:\\n        result.append(a)\\n        a,b=b,a+b\\n    return result\",\n",
       "  'f100=fibonacci2(100)',\n",
       "  'f100',\n",
       "  'print(fibonacch2(100))',\n",
       "  'print(fibonacci2(100))',\n",
       "  'print(f100)',\n",
       "  'print(f100)',\n",
       "  'def swap(a,b):\\n    return b,a',\n",
       "  'a=swap(1,2)',\n",
       "  'type(a)',\n",
       "  'print(a)',\n",
       "  'x,y=swap(1,2)',\n",
       "  'print(x,y)',\n",
       "  '### 기본 인수 값',\n",
       "  \"def ask_ok(prompt,retries=4,reminder='Please try again!'):\\n    while True:\\n        ok=input(prompt)\\n        if ok in('y','ye','yes'):\\n            return True\\n        if ok in('n','no','nop','nope'):\\n            return False\\n        retries=retries-1\\n        if retries<0:\\n            raise ValueError('invalid user response')\\n        print(reminder)\",\n",
       "  \"ask_ok('Do you really want to quit?')\",\n",
       "  \"ask_ok('Do you really want to quit?')\",\n",
       "  \"ask_ok('Do you really want to quit?',2)\",\n",
       "  'i=5\\ndef func3(arg=i):\\n    print(arg)',\n",
       "  'i=6\\nfunc3()',\n",
       "  'globals()',\n",
       "  'locals()'],\n",
       " 'Out': {11: ['__annotations__',\n",
       "   '__call__',\n",
       "   '__class__',\n",
       "   '__closure__',\n",
       "   '__code__',\n",
       "   '__defaults__',\n",
       "   '__delattr__',\n",
       "   '__dict__',\n",
       "   '__dir__',\n",
       "   '__doc__',\n",
       "   '__eq__',\n",
       "   '__format__',\n",
       "   '__ge__',\n",
       "   '__get__',\n",
       "   '__getattribute__',\n",
       "   '__globals__',\n",
       "   '__gt__',\n",
       "   '__hash__',\n",
       "   '__init__',\n",
       "   '__init_subclass__',\n",
       "   '__kwdefaults__',\n",
       "   '__le__',\n",
       "   '__lt__',\n",
       "   '__module__',\n",
       "   '__name__',\n",
       "   '__ne__',\n",
       "   '__new__',\n",
       "   '__qualname__',\n",
       "   '__reduce__',\n",
       "   '__reduce_ex__',\n",
       "   '__repr__',\n",
       "   '__setattr__',\n",
       "   '__sizeof__',\n",
       "   '__str__',\n",
       "   '__subclasshook__'],\n",
       "  24: 2031472171616,\n",
       "  25: 2031472171616,\n",
       "  26: 2031472171616,\n",
       "  34: [0, 1, 1, 2, 3, 5, 8, 13, 21, 34, 55, 89],\n",
       "  41: tuple,\n",
       "  47: False,\n",
       "  52: {...}},\n",
       " 'get_ipython': <bound method InteractiveShell.get_ipython of <ipykernel.zmqshell.ZMQInteractiveShell object at 0x000001D8FD117B70>>,\n",
       " 'exit': <IPython.core.autocall.ZMQExitAutocall at 0x1d8fd168fd0>,\n",
       " 'quit': <IPython.core.autocall.ZMQExitAutocall at 0x1d8fd168fd0>,\n",
       " '_': {...},\n",
       " '__': False,\n",
       " '___': tuple,\n",
       " '_i': 'globals()',\n",
       " '_ii': 'i=6\\nfunc3()',\n",
       " '_iii': 'i=5\\ndef func3(arg=i):\\n    print(arg)',\n",
       " '_i1': '### 함수의 정의',\n",
       " '_i2': \"def fibonacci(n):\\n    '''n값 미만까지 피보나치수열을 출력합니다'''\\n    a,b=0,1\\n    while a<n:\\n        print(a,end-'')\\n        a,b=b,a+b\\n    print()\",\n",
       " 'fibonacci': <function __main__.fibonacci(n)>,\n",
       " '_i3': 'fibonacci(2000)',\n",
       " '_i4': \"def fibonacci(n):\\n    '''n값 미만까지 피보나치수열을 출력합니다'''\\n    a,b=0,1\\n    while a<n:\\n        print(a,end='')\\n        a,b=b,a+b\\n    print()\",\n",
       " '_i5': 'fibonacci(2000)',\n",
       " '_i6': \"def fibonacci(n):\\n    '''n값 미만까지 피보나치수열을 출력합니다'''\\n    a,b=0,1\\n    while a<n:\\n        print(a,end=' ')\\n        a,b=b,a+b\\n    print()\",\n",
       " '_i7': 'fibonacci(2000)',\n",
       " '_i8': 'print(fibonacci.__doc__)',\n",
       " '_i9': '### 변수의 참조',\n",
       " '_i10': 'print(fibonacci.__doc__)',\n",
       " '_i11': 'dir(fibonacci)',\n",
       " '_11': ['__annotations__',\n",
       "  '__call__',\n",
       "  '__class__',\n",
       "  '__closure__',\n",
       "  '__code__',\n",
       "  '__defaults__',\n",
       "  '__delattr__',\n",
       "  '__dict__',\n",
       "  '__dir__',\n",
       "  '__doc__',\n",
       "  '__eq__',\n",
       "  '__format__',\n",
       "  '__ge__',\n",
       "  '__get__',\n",
       "  '__getattribute__',\n",
       "  '__globals__',\n",
       "  '__gt__',\n",
       "  '__hash__',\n",
       "  '__init__',\n",
       "  '__init_subclass__',\n",
       "  '__kwdefaults__',\n",
       "  '__le__',\n",
       "  '__lt__',\n",
       "  '__module__',\n",
       "  '__name__',\n",
       "  '__ne__',\n",
       "  '__new__',\n",
       "  '__qualname__',\n",
       "  '__reduce__',\n",
       "  '__reduce_ex__',\n",
       "  '__repr__',\n",
       "  '__setattr__',\n",
       "  '__sizeof__',\n",
       "  '__str__',\n",
       "  '__subclasshook__'],\n",
       " '_i12': 'global_var=100\\ndef func1():\\n    print(global_val)',\n",
       " 'global_var': 100,\n",
       " 'func1': <function __main__.func1()>,\n",
       " '_i13': 'func1()',\n",
       " '_i14': 'global_var=100\\ndef func1():\\n    print(global_var)',\n",
       " '_i15': 'func1()',\n",
       " '_i16': 'def func2():\\n    print(global_var)\\n    global_var=200\\n    print(global_var)',\n",
       " 'func2': <function __main__.func2()>,\n",
       " '_i17': 'func2()',\n",
       " '_i18': 'def func2():\\n    global_var=200\\n    print(global_var) #1\\n    \\n    print(global_var) #2',\n",
       " '_i19': 'func2()',\n",
       " '_i20': 'def func2():\\n    print(global_var) #1 \\n    global_var=200\\nprint(global_var) #2',\n",
       " '_i21': 'def func2():\\n    print(global_var) #1 \\n    global_var=200\\nprint(global_var) #2',\n",
       " '_i22': 'func2()',\n",
       " '_i23': 'f=fibonacci\\nf(2000)',\n",
       " 'f': <function __main__.fibonacci(n)>,\n",
       " '_i24': 'fibonacci(2000)\\nid(f)\\nid(fibonacci)',\n",
       " '_24': 2031472171616,\n",
       " '_i25': 'fibonacci(2000)\\nid(f)',\n",
       " '_25': 2031472171616,\n",
       " '_i26': 'id(fibonacci)',\n",
       " '_26': 2031472171616,\n",
       " '_i27': 'f200 = fibonacci(200)',\n",
       " 'f200': None,\n",
       " '_i28': 'f200',\n",
       " '_i29': 'print(f200)',\n",
       " '_i30': 'f200',\n",
       " '_i31': 'f200(10)',\n",
       " '_i32': \"def fibonacci2(n):\\n    '''n값 미만까지 피보나치수열을 출력합니다.'''\\n    result=[]\\n    a,b=0,1\\n    while a<n:\\n        result.append(a)\\n        a,b=b,a+b\\n    return result\",\n",
       " 'fibonacci2': <function __main__.fibonacci2(n)>,\n",
       " '_i33': 'f100=fibonacci2(100)',\n",
       " 'f100': [0, 1, 1, 2, 3, 5, 8, 13, 21, 34, 55, 89],\n",
       " '_i34': 'f100',\n",
       " '_34': [0, 1, 1, 2, 3, 5, 8, 13, 21, 34, 55, 89],\n",
       " '_i35': 'print(fibonacch2(100))',\n",
       " '_i36': 'print(fibonacci2(100))',\n",
       " '_i37': 'print(f100)',\n",
       " '_i38': 'print(f100)',\n",
       " '_i39': 'def swap(a,b):\\n    return b,a',\n",
       " 'swap': <function __main__.swap(a, b)>,\n",
       " '_i40': 'a=swap(1,2)',\n",
       " 'a': (2, 1),\n",
       " '_i41': 'type(a)',\n",
       " '_41': tuple,\n",
       " '_i42': 'print(a)',\n",
       " '_i43': 'x,y=swap(1,2)',\n",
       " 'x': 2,\n",
       " 'y': 1,\n",
       " '_i44': 'print(x,y)',\n",
       " '_i45': '### 기본 인수 값',\n",
       " '_i46': \"def ask_ok(prompt,retries=4,reminder='Please try again!'):\\n    while True:\\n        ok=input(prompt)\\n        if ok in('y','ye','yes'):\\n            return True\\n        if ok in('n','no','nop','nope'):\\n            return False\\n        retries=retries-1\\n        if retries<0:\\n            raise ValueError('invalid user response')\\n        print(reminder)\",\n",
       " 'ask_ok': <function __main__.ask_ok(prompt, retries=4, reminder='Please try again!')>,\n",
       " '_i47': \"ask_ok('Do you really want to quit?')\",\n",
       " '_47': False,\n",
       " '_i48': \"ask_ok('Do you really want to quit?')\",\n",
       " '_i49': \"ask_ok('Do you really want to quit?',2)\",\n",
       " '_i50': 'i=5\\ndef func3(arg=i):\\n    print(arg)',\n",
       " 'i': 6,\n",
       " 'func3': <function __main__.func3(arg=5)>,\n",
       " '_i51': 'i=6\\nfunc3()',\n",
       " '_i52': 'globals()',\n",
       " '_52': {...},\n",
       " '_i53': 'locals()'}"
      ]
     },
     "execution_count": 53,
     "metadata": {},
     "output_type": "execute_result"
    }
   ],
   "source": [
    "locals()"
   ]
  },
  {
   "cell_type": "code",
   "execution_count": null,
   "metadata": {},
   "outputs": [],
   "source": []
  }
 ],
 "metadata": {
  "kernelspec": {
   "display_name": "Python 3",
   "language": "python",
   "name": "python3"
  },
  "language_info": {
   "codemirror_mode": {
    "name": "ipython",
    "version": 3
   },
   "file_extension": ".py",
   "mimetype": "text/x-python",
   "name": "python",
   "nbconvert_exporter": "python",
   "pygments_lexer": "ipython3",
   "version": "3.6.5"
  }
 },
 "nbformat": 4,
 "nbformat_minor": 2
}
