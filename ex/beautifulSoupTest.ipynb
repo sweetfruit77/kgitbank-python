{
 "cells": [
  {
   "cell_type": "code",
   "execution_count": 1,
   "metadata": {},
   "outputs": [],
   "source": [
    "import numpy as np"
   ]
  },
  {
   "cell_type": "code",
   "execution_count": 2,
   "metadata": {},
   "outputs": [
    {
     "name": "stdout",
     "output_type": "stream",
     "text": [
      "[[1. 0. 0.]\n",
      " [0. 1. 0.]\n",
      " [0. 0. 1.]]\n"
     ]
    }
   ],
   "source": [
    "a = np.eye(3)\t\t # 배열을 대각선으로 1 값으로 초기화\n",
    "print(a)\n"
   ]
  },
  {
   "cell_type": "code",
   "execution_count": 3,
   "metadata": {},
   "outputs": [
    {
     "name": "stdout",
     "output_type": "stream",
     "text": [
      "[[ 0  1  2  3  4]\n",
      " [ 5  6  7  8  9]\n",
      " [10 11 12 13 14]\n",
      " [15 16 17 18 19]]\n"
     ]
    }
   ],
   "source": [
    "arr = np.array(range(20)).reshape((4,5)) # 배열을 1 부터 20 값으로 초기화\n",
    "print(arr)\n"
   ]
  },
  {
   "cell_type": "code",
   "execution_count": 4,
   "metadata": {},
   "outputs": [],
   "source": [
    "from bs4 import BeautifulSoup"
   ]
  },
  {
   "cell_type": "code",
   "execution_count": 5,
   "metadata": {},
   "outputs": [],
   "source": [
    "html = '''<!DOCTYPE html>\u000b",
    "<html>\u000b",
    "<head><title>The kim's story</title></head>\u000b",
    "<body>\u000b",
    "<p class=\"title\"><b>The kim's story</b></p>\u000b",
    "<p class=\"story\">\u000b",
    "    Once upon a time there were three little sisters; and their names were\u000b",
    "    <a href=\"http://example.com/elsie\" class=\"sister\" id=\"link1\">Elsie</a>,\u000b",
    "    <a href=\"http://example.com/lacie\" class=\"sister\" id=\"link2\">Lacie</a> and\u000b",
    "    <a href=\"http://example.com/tillie\" class=\"sister brother\" id=\"link3\">Tillie</a>;\u000b",
    "    and they lived at the bottom of a well.\u000b",
    "</p>\u000b",
    "</body>\u000b",
    "</html>\u000b",
    "'''"
   ]
  },
  {
   "cell_type": "code",
   "execution_count": 6,
   "metadata": {},
   "outputs": [],
   "source": [
    "soup = BeautifulSoup(html, 'html.parser')\n"
   ]
  },
  {
   "cell_type": "code",
   "execution_count": 7,
   "metadata": {},
   "outputs": [],
   "source": [
    "import requests, bs4"
   ]
  },
  {
   "cell_type": "code",
   "execution_count": 8,
   "metadata": {},
   "outputs": [],
   "source": [
    "resp = requests.get('https://www.naver.com')"
   ]
  },
  {
   "cell_type": "code",
   "execution_count": 9,
   "metadata": {},
   "outputs": [],
   "source": [
    "#print(resp.text)\n",
    "    "
   ]
  },
  {
   "cell_type": "code",
   "execution_count": 10,
   "metadata": {},
   "outputs": [],
   "source": [
    "if (resp.status_code == requests.codes.ok):\n",
    "    html = resp.text\n",
    "#    print(html)"
   ]
  },
  {
   "cell_type": "code",
   "execution_count": 11,
   "metadata": {},
   "outputs": [
    {
     "name": "stdout",
     "output_type": "stream",
     "text": [
      "\n",
      "1\n",
      "2018 kbs 연예대상\n",
      "\n",
      "\n",
      "2\n",
      "황광희\n",
      "\n",
      "\n",
      "3\n",
      "로또838회당첨번호\n",
      "\n",
      "\n",
      "4\n",
      "연예대상\n",
      "\n",
      "\n",
      "5\n",
      "광희\n",
      "\n",
      "\n",
      "6\n",
      "정찬우\n",
      "\n",
      "\n",
      "7\n",
      "팽현숙\n",
      "\n",
      "\n",
      "8\n",
      "바람과함께사라지다\n",
      "\n",
      "\n",
      "9\n",
      "거제 학교폭력\n",
      "\n",
      "\n",
      "10\n",
      "역모 반란의시대\n",
      "\n",
      "\n",
      "11\n",
      "손나은\n",
      "\n",
      "\n",
      "12\n",
      "위메프 반값특가\n",
      "\n",
      "\n",
      "13\n",
      "스카이캐슬 촬영지\n",
      "\n",
      "\n",
      "14\n",
      "다크타워 희망의탑\n",
      "\n",
      "\n",
      "15\n",
      "문가비\n",
      "\n",
      "\n",
      "16\n",
      "전참시\n",
      "\n",
      "\n",
      "17\n",
      "신이\n",
      "\n",
      "\n",
      "18\n",
      "김혜선\n",
      "\n",
      "\n",
      "19\n",
      "이수지\n",
      "\n",
      "\n",
      "20\n",
      "sky 캐슬 촬영지\n",
      "\n",
      "\n",
      "1\n",
      "2018 kbs 연예대상\n",
      "\n",
      "\n",
      "2\n",
      "황광희\n",
      "\n",
      "\n",
      "3\n",
      "로또838회당첨번호\n",
      "\n",
      "\n",
      "4\n",
      "연예대상\n",
      "\n",
      "\n",
      "5\n",
      "광희\n",
      "\n",
      "\n",
      "6\n",
      "정찬우\n",
      "\n",
      "\n",
      "7\n",
      "팽현숙\n",
      "\n",
      "\n",
      "8\n",
      "바람과함께사라지다\n",
      "\n",
      "\n",
      "9\n",
      "거제 학교폭력\n",
      "\n",
      "\n",
      "10\n",
      "역모 반란의시대\n",
      "\n",
      "\n",
      "11\n",
      "손나은\n",
      "\n",
      "\n",
      "12\n",
      "위메프 반값특가\n",
      "\n",
      "\n",
      "13\n",
      "스카이캐슬 촬영지\n",
      "\n",
      "\n",
      "14\n",
      "다크타워 희망의탑\n",
      "\n",
      "\n",
      "15\n",
      "문가비\n",
      "\n",
      "\n",
      "16\n",
      "전참시\n",
      "\n",
      "\n",
      "17\n",
      "신이\n",
      "\n",
      "\n",
      "18\n",
      "김혜선\n",
      "\n",
      "\n",
      "19\n",
      "이수지\n",
      "\n",
      "\n",
      "20\n",
      "sky 캐슬 촬영지\n",
      "\n"
     ]
    }
   ],
   "source": [
    "bs = bs4.BeautifulSoup(html, 'html.parser')\n",
    "tags = bs.select('a.ah_a') # Top 뉴스\n",
    "for t in tags :\n",
    "    print(t.getText())"
   ]
  },
  {
   "cell_type": "code",
   "execution_count": 12,
   "metadata": {},
   "outputs": [],
   "source": [
    "resp = requests.get('https://www.mediawiki.org/w/api.php?action=cirrus-settings-dump')"
   ]
  },
  {
   "cell_type": "markdown",
   "metadata": {},
   "source": [
    "print(resp.text)"
   ]
  },
  {
   "cell_type": "code",
   "execution_count": null,
   "metadata": {},
   "outputs": [],
   "source": []
  }
 ],
 "metadata": {
  "kernelspec": {
   "display_name": "Python 3",
   "language": "python",
   "name": "python3"
  },
  "language_info": {
   "codemirror_mode": {
    "name": "ipython",
    "version": 3
   },
   "file_extension": ".py",
   "mimetype": "text/x-python",
   "name": "python",
   "nbconvert_exporter": "python",
   "pygments_lexer": "ipython3",
   "version": "3.6.5"
  }
 },
 "nbformat": 4,
 "nbformat_minor": 2
}
