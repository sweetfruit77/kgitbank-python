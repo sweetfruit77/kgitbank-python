{
 "cells": [
  {
   "cell_type": "code",
   "execution_count": 6,
   "metadata": {},
   "outputs": [],
   "source": [
    "   def call_by_value(num, mlist):\n",
    "        num = num + 1\n",
    "        mlist.append(\"add 1\")"
   ]
  },
  {
   "cell_type": "code",
   "execution_count": 7,
   "metadata": {},
   "outputs": [
    {
     "name": "stdout",
     "output_type": "stream",
     "text": [
      "10 [1, 2, 3]\n",
      "10 [1, 2, 3, 'add 1']\n"
     ]
    }
   ],
   "source": [
    "num = 10\n",
    "mlist = [1,2,3]\n",
    "print(num, mlist)\n",
    "call_by_value(num, mlist)\n",
    "print(num, mlist)"
   ]
  },
  {
   "cell_type": "code",
   "execution_count": 8,
   "metadata": {},
   "outputs": [],
   "source": [
    "def pr2():\n",
    "    # pass\n",
    "    print('pr2')"
   ]
  },
  {
   "cell_type": "code",
   "execution_count": 9,
   "metadata": {},
   "outputs": [
    {
     "name": "stdout",
     "output_type": "stream",
     "text": [
      "pr2\n",
      "None\n"
     ]
    }
   ],
   "source": [
    "a = pr2()\n",
    "print(a)"
   ]
  },
  {
   "cell_type": "code",
   "execution_count": 14,
   "metadata": {},
   "outputs": [
    {
     "name": "stdout",
     "output_type": "stream",
     "text": [
      "Hello World\n"
     ]
    }
   ],
   "source": [
    "def hello_message( ):\n",
    "    print(\"Hello World\")\n",
    "\n",
    "if  __name__== \"__main__\" :\n",
    "    hello_message( )\n"
   ]
  },
  {
   "cell_type": "code",
   "execution_count": 16,
   "metadata": {},
   "outputs": [
    {
     "name": "stdout",
     "output_type": "stream",
     "text": [
      "Hello World\n",
      "Hello World\n",
      "Hello World\n"
     ]
    }
   ],
   "source": [
    "def hello_message( repeat_count ) :\n",
    "\tfor item in range(repeat_count) :\n",
    "\t\tprint(\"Hello World\")  \n",
    "if __name__ == \"__main__\" :\n",
    "\thello_message(1)  \n",
    "\thello_message(2)\n"
   ]
  },
  {
   "cell_type": "code",
   "execution_count": 22,
   "metadata": {},
   "outputs": [
    {
     "name": "stdout",
     "output_type": "stream",
     "text": [
      "반지름: 3 PI: 3.14 면적: 28.26\n",
      "반지름: 3 PI: 3.1415 면적: 28.273500000000002\n"
     ]
    }
   ],
   "source": [
    "def circle_area(radius, pi):  \n",
    "    area = pi * (radius ** 2)  \n",
    "    return area\n",
    "if __name__== \"__main__\" :\n",
    "    print(\"반지름:\", 3, \"PI:\", 3.14, \"면적:\", circle_area(3, 3.14))\n",
    "    print(\"반지름:\", 3, \"PI:\", 3.1415, \"면적:\", circle_area(3, 3.1415))"
   ]
  },
  {
   "cell_type": "code",
   "execution_count": 23,
   "metadata": {},
   "outputs": [
    {
     "name": "stdout",
     "output_type": "stream",
     "text": [
      "반지름: 3 면적과 둘레: (28.26, 18.84)\n",
      "반지름: 3 면적: 28.26 둘레:  18.84\n"
     ]
    }
   ],
   "source": [
    "def circle_area_circumference(radius, pi):  \n",
    "    area = pi * (radius ** 2)  \n",
    "    circumference = 2 * pi * radius  \n",
    "    return area, circumference\n",
    "if  __name__==\"__main__\":\n",
    "    result = circle_area_circumference(3, 3.14)  \n",
    "    print(\"반지름:\", 3, \"면적과 둘레:\", result)\n",
    "    res1, res2 = circle_area_circumference(3, 3.14)  \n",
    "    print(\"반지름:\", 3, \"면적:\", res1, \"둘레: \", res2)"
   ]
  },
  {
   "cell_type": "code",
   "execution_count": 27,
   "metadata": {},
   "outputs": [],
   "source": [
    "def do_circle(r, pi):\n",
    "    print(r, pi)\n",
    "    return r * r * pi"
   ]
  },
  {
   "cell_type": "code",
   "execution_count": 34,
   "metadata": {},
   "outputs": [
    {
     "name": "stdout",
     "output_type": "stream",
     "text": [
      "3 3.141592\n",
      "size의 면저은 28.274328 입니다.\n"
     ]
    }
   ],
   "source": [
    "size = do_circle(3, 3.141592)\n",
    "print('size의 면저은 {} 입니다.'.format(size))"
   ]
  },
  {
   "cell_type": "code",
   "execution_count": 30,
   "metadata": {},
   "outputs": [],
   "source": [
    "def do_circle1(r, pi=3.141592):\n",
    "    print(r, pi)\n",
    "    return r * r * pi"
   ]
  },
  {
   "cell_type": "code",
   "execution_count": 31,
   "metadata": {},
   "outputs": [
    {
     "name": "stdout",
     "output_type": "stream",
     "text": [
      "3 3.141592\n",
      "size1의 면저은 28.274328 입니다.\n"
     ]
    }
   ],
   "source": [
    "size1 = do_circle1(3)\n",
    "print('size1의 면저은 {} 입니다.'.format(size1))"
   ]
  },
  {
   "cell_type": "markdown",
   "metadata": {},
   "source": [
    "# 키워드 사용 인자"
   ]
  },
  {
   "cell_type": "code",
   "execution_count": 32,
   "metadata": {},
   "outputs": [
    {
     "name": "stdout",
     "output_type": "stream",
     "text": [
      "3 3.14\n",
      "size의 면저은 28.26 입니다.\n"
     ]
    }
   ],
   "source": [
    "size = do_circle(3, pi=3.14)\n",
    "print('size의 면저은 {} 입니다.'.format(size))"
   ]
  },
  {
   "cell_type": "code",
   "execution_count": 33,
   "metadata": {},
   "outputs": [
    {
     "name": "stdout",
     "output_type": "stream",
     "text": [
      "3 3.14\n",
      "size1의 면저은 28.26 입니다.\n"
     ]
    }
   ],
   "source": [
    "size1 = do_circle1(r=3, pi=3.14)\n",
    "print('size1의 면저은 {} 입니다.'.format(size1))"
   ]
  },
  {
   "cell_type": "code",
   "execution_count": 35,
   "metadata": {},
   "outputs": [
    {
     "ename": "SyntaxError",
     "evalue": "positional argument follows keyword argument (<ipython-input-35-093a976365aa>, line 1)",
     "output_type": "error",
     "traceback": [
      "\u001b[1;36m  File \u001b[1;32m\"<ipython-input-35-093a976365aa>\"\u001b[1;36m, line \u001b[1;32m1\u001b[0m\n\u001b[1;33m    size = do_circle(pi=3.14, 3)\u001b[0m\n\u001b[1;37m                             ^\u001b[0m\n\u001b[1;31mSyntaxError\u001b[0m\u001b[1;31m:\u001b[0m positional argument follows keyword argument\n"
     ]
    }
   ],
   "source": [
    "size = do_circle(pi=3.14, 3)\n",
    "print('size의 면저은 {} 입니다.'.format(size))"
   ]
  },
  {
   "cell_type": "code",
   "execution_count": 38,
   "metadata": {},
   "outputs": [
    {
     "ename": "NameError",
     "evalue": "name 'l_val' is not defined",
     "output_type": "error",
     "traceback": [
      "\u001b[1;31m---------------------------------------------------------------------------\u001b[0m",
      "\u001b[1;31mNameError\u001b[0m                                 Traceback (most recent call last)",
      "\u001b[1;32m<ipython-input-38-6c9e9de79e57>\u001b[0m in \u001b[0;36m<module>\u001b[1;34m()\u001b[0m\n\u001b[0;32m      3\u001b[0m     \u001b[0ml_val\u001b[0m\u001b[1;33m=\u001b[0m \u001b[1;36m2\u001b[0m\u001b[1;33m\u001b[0m\u001b[0m\n\u001b[0;32m      4\u001b[0m \u001b[0mfoo\u001b[0m\u001b[1;33m(\u001b[0m\u001b[1;33m)\u001b[0m\u001b[1;33m\u001b[0m\u001b[0m\n\u001b[1;32m----> 5\u001b[1;33m \u001b[0mprint\u001b[0m\u001b[1;33m(\u001b[0m\u001b[0ml_val\u001b[0m\u001b[1;33m)\u001b[0m\u001b[1;33m\u001b[0m\u001b[0m\n\u001b[0m",
      "\u001b[1;31mNameError\u001b[0m: name 'l_val' is not defined"
     ]
    }
   ],
   "source": [
    "g_val = 3  \n",
    "def foo():\n",
    "    l_val= 2\n",
    "foo()\n",
    "print(l_val)"
   ]
  },
  {
   "cell_type": "code",
   "execution_count": 40,
   "metadata": {},
   "outputs": [
    {
     "name": "stdout",
     "output_type": "stream",
     "text": [
      "3\n"
     ]
    }
   ],
   "source": [
    "g_val = 3  \n",
    "def foo():\n",
    "    g_val = 2\n",
    "foo()\n",
    "print(g_val)\n"
   ]
  },
  {
   "cell_type": "code",
   "execution_count": 41,
   "metadata": {},
   "outputs": [
    {
     "name": "stdout",
     "output_type": "stream",
     "text": [
      "3\n"
     ]
    }
   ],
   "source": [
    "g_val = 3  \n",
    "def foo():\n",
    "    l_val = g_val  \n",
    "    print(l_val)\n",
    "foo()\n"
   ]
  },
  {
   "cell_type": "code",
   "execution_count": 46,
   "metadata": {},
   "outputs": [
    {
     "name": "stdout",
     "output_type": "stream",
     "text": [
      "2\n"
     ]
    }
   ],
   "source": [
    "g_val = 3  \n",
    "def foo():\n",
    "    global g_val\n",
    "    g_val= 2\n",
    "foo()\n",
    "print(g_val)"
   ]
  },
  {
   "cell_type": "code",
   "execution_count": 48,
   "metadata": {},
   "outputs": [
    {
     "name": "stdout",
     "output_type": "stream",
     "text": [
      "inner: nonlocal\n",
      "outer: local\n",
      "global :  global\n"
     ]
    }
   ],
   "source": [
    "x = 'global'\n",
    "def outer():\n",
    "    x = \"local\"\n",
    "   \n",
    "    def inner():\n",
    "        # nonlocal x\n",
    "        x = \"nonlocal\"\n",
    "        print(\"inner:\", x)\n",
    "        \n",
    "    inner()\n",
    "    print(\"outer:\", x)\n",
    "outer()\n",
    "print(\"global : \", x)"
   ]
  },
  {
   "cell_type": "code",
   "execution_count": 53,
   "metadata": {},
   "outputs": [
    {
     "name": "stdout",
     "output_type": "stream",
     "text": [
      "[(4, 'four'), (1, 'one'), (3, 'three'), (2, 'two')]\n"
     ]
    }
   ],
   "source": [
    "pairs = [(1, 'one'), (2, 'two'), (3, 'three'), (4, 'four')]\n",
    "def shortKey(pair) :\n",
    "    return pair[1]\n",
    "pairs.sort(key=shortKey)\n",
    "pairs.sort(key=lambda pair: pair[1])    #lambdar로 함수 전달\n",
    "print(pairs)\n"
   ]
  },
  {
   "cell_type": "code",
   "execution_count": 55,
   "metadata": {},
   "outputs": [
    {
     "name": "stdout",
     "output_type": "stream",
     "text": [
      "<map object at 0x000002958B7F6080>\n",
      "[1, 4, 9, 16, 25]\n"
     ]
    }
   ],
   "source": [
    "arr = [1,2,3,4,5]\n",
    "brr = map(lambda  x : x**2, arr)\n",
    "print(brr)\n",
    "crr = list(brr)\n",
    "print(crr)\n"
   ]
  },
  {
   "cell_type": "code",
   "execution_count": 57,
   "metadata": {},
   "outputs": [
    {
     "name": "stdout",
     "output_type": "stream",
     "text": [
      "<filter object at 0x000002958B7F61D0>\n",
      "3 6 9 "
     ]
    }
   ],
   "source": [
    "arr = [1,2,3,4,5,6,7,8,9]\n",
    "brr = filter(lambda x :x%3 == 0, arr)\n",
    "print(brr)\n",
    "#print(next(brr))\n",
    "for item in brr :\n",
    "    print(item, end=\" \")\n"
   ]
  },
  {
   "cell_type": "code",
   "execution_count": 59,
   "metadata": {},
   "outputs": [],
   "source": [
    "def get(key, dataset):\n",
    "    try:\n",
    "        value = dataset[key]\n",
    "    except (IndexError,KeyError):\n",
    "        #  두 오류 동일 처리처리\n",
    "        return None\n",
    "    else:\n",
    "        return value"
   ]
  },
  {
   "cell_type": "code",
   "execution_count": 62,
   "metadata": {},
   "outputs": [
    {
     "name": "stdout",
     "output_type": "stream",
     "text": [
      "None\n",
      "None\n"
     ]
    }
   ],
   "source": [
    "print(get(3, (1, 2, 3)))               \n",
    "    # 범위를 벗어난 인덱스를 인덱싱\n",
    "print(get('age', {'name': '홍길동', 'gender':True}))  # 사전에 없는 키 인덱싱"
   ]
  },
  {
   "cell_type": "code",
   "execution_count": null,
   "metadata": {},
   "outputs": [],
   "source": []
  }
 ],
 "metadata": {
  "kernelspec": {
   "display_name": "Python 3",
   "language": "python",
   "name": "python3"
  },
  "language_info": {
   "codemirror_mode": {
    "name": "ipython",
    "version": 3
   },
   "file_extension": ".py",
   "mimetype": "text/x-python",
   "name": "python",
   "nbconvert_exporter": "python",
   "pygments_lexer": "ipython3",
   "version": "3.6.5"
  }
 },
 "nbformat": 4,
 "nbformat_minor": 2
}
