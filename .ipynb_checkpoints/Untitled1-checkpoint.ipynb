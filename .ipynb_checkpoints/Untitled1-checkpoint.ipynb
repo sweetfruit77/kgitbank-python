{
 "cells": [
  {
   "cell_type": "code",
   "execution_count": 1,
   "metadata": {},
   "outputs": [
    {
     "name": "stdout",
     "output_type": "stream",
     "text": [
      "200\n",
      "I love Python\n",
      "['a', 'b', 'c']\n",
      "a\n",
      "{'a': 97, 'b': 98}\n",
      "97\n"
     ]
    }
   ],
   "source": [
    "a = 200\n",
    "msg = 'I love Python'\n",
    "list_data = ['a', 'b', 'c']\n",
    "dict_data = {'a':97, 'b':98}\n",
    "print(a)\n",
    "print(msg)\n",
    "print(list_data)\n",
    "print(list_data[0])\n",
    "print(dict_data)\n",
    "print(dict_data['a'])\n"
   ]
  },
  {
   "cell_type": "code",
   "execution_count": 2,
   "metadata": {},
   "outputs": [
    {
     "data": {
      "text/plain": [
       "int"
      ]
     },
     "execution_count": 2,
     "metadata": {},
     "output_type": "execute_result"
    }
   ],
   "source": [
    "type(a)"
   ]
  },
  {
   "cell_type": "code",
   "execution_count": 3,
   "metadata": {},
   "outputs": [
    {
     "data": {
      "text/plain": [
       "list"
      ]
     },
     "execution_count": 3,
     "metadata": {},
     "output_type": "execute_result"
    }
   ],
   "source": [
    "type(list_data)"
   ]
  },
  {
   "cell_type": "code",
   "execution_count": 4,
   "metadata": {},
   "outputs": [
    {
     "data": {
      "text/plain": [
       "2110134493384"
      ]
     },
     "execution_count": 4,
     "metadata": {},
     "output_type": "execute_result"
    }
   ],
   "source": [
    "id(list_data)"
   ]
  },
  {
   "cell_type": "code",
   "execution_count": 6,
   "metadata": {},
   "outputs": [
    {
     "name": "stdout",
     "output_type": "stream",
     "text": [
      "숫자를 입력하세요\n",
      "<class 'str'>\n"
     ]
    }
   ],
   "source": [
    "print(\"숫자를 입력하세요\")\n",
    "i = input()\n",
    "\n",
    "i = input(\"숫자를 입력하세요\")\n",
    "print(type(i))       #input()은 입력을 문자열로 리턴\n",
    "\n",
    "i = int(input(\"숫자를 입력하세요\"))\n",
    "i = float(input(\"숫자를 입력하세요\"))"
   ]
  },
  {
   "cell_type": "code",
   "execution_count": 7,
   "metadata": {},
   "outputs": [
    {
     "name": "stdout",
     "output_type": "stream",
     "text": [
      "대한민국:1등\n",
      "(3, 2, 1)\n"
     ]
    }
   ],
   "source": [
    "import mylib\n",
    "ret1=mylib.add_txt('대한민국','1등')\n",
    "ret2 =mylib.reverse(1,2,3)\n",
    "print(ret1)\n",
    "print(ret2)"
   ]
  },
  {
   "cell_type": "code",
   "execution_count": 8,
   "metadata": {},
   "outputs": [
    {
     "name": "stdout",
     "output_type": "stream",
     "text": [
      "5초간 프로그램을 정지합니다.\n",
      "5초가 지나갔습니다.\n"
     ]
    }
   ],
   "source": [
    "import time\n",
    "\n",
    "print('5초간 프로그램을 정지합니다.')\n",
    "time.sleep(5)\n",
    "print('5초가 지나갔습니다.')\n"
   ]
  },
  {
   "cell_type": "code",
   "execution_count": 14,
   "metadata": {},
   "outputs": [
    {
     "name": "stdout",
     "output_type": "stream",
     "text": [
      "3\n"
     ]
    }
   ],
   "source": [
    "g_val = 3  \n",
    "def foo():\n",
    "    g_val = 2\n",
    "foo()\n",
    "print(g_val)\n"
   ]
  },
  {
   "cell_type": "code",
   "execution_count": 11,
   "metadata": {},
   "outputs": [],
   "source": [
    "g_val = 3  \n",
    "def foo():\n",
    "    l_val= 2\n",
    "foo()\n"
   ]
  },
  {
   "cell_type": "code",
   "execution_count": 13,
   "metadata": {},
   "outputs": [
    {
     "name": "stdout",
     "output_type": "stream",
     "text": [
      "3\n"
     ]
    }
   ],
   "source": [
    "g_val = 3  \n",
    "def foo():\n",
    "    l_val = g_val  \n",
    "    print(l_val)\n",
    "foo()\n"
   ]
  },
  {
   "cell_type": "code",
   "execution_count": 18,
   "metadata": {},
   "outputs": [
    {
     "name": "stdout",
     "output_type": "stream",
     "text": [
      "p\n",
      "y\n",
      "t\n"
     ]
    }
   ],
   "source": [
    "break_letter = input(\"중단할 문자를 입력하시오: \")  \n",
    "for letter in \"python\":\n",
    "    if letter == break_letter:  \n",
    "        break\n",
    "    print(letter)  \n",
    "else:\n",
    "    print(\"모든 문자 출력 완료!\")\n"
   ]
  },
  {
   "cell_type": "code",
   "execution_count": null,
   "metadata": {},
   "outputs": [],
   "source": [
    "continue_letter = input(\"건너뛸 문자를 입력하시오: \")  \n",
    "for letter in \"python\":\n",
    "    if letter == continue_letter:  \n",
    "        continue\n",
    "        print(letter)\n"
   ]
  }
 ],
 "metadata": {
  "kernelspec": {
   "display_name": "Python 3",
   "language": "python",
   "name": "python3"
  },
  "language_info": {
   "codemirror_mode": {
    "name": "ipython",
    "version": 3
   },
   "file_extension": ".py",
   "mimetype": "text/x-python",
   "name": "python",
   "nbconvert_exporter": "python",
   "pygments_lexer": "ipython3",
   "version": "3.6.5"
  }
 },
 "nbformat": 4,
 "nbformat_minor": 2
}
