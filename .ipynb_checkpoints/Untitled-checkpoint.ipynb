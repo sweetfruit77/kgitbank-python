{
 "cells": [
  {
   "cell_type": "code",
   "execution_count": 6,
   "metadata": {},
   "outputs": [],
   "source": [
    "   def call_by_value(num, mlist):\n",
    "        num = num + 1\n",
    "        mlist.append(\"add 1\")"
   ]
  },
  {
   "cell_type": "code",
   "execution_count": 7,
   "metadata": {},
   "outputs": [
    {
     "name": "stdout",
     "output_type": "stream",
     "text": [
      "10 [1, 2, 3]\n",
      "10 [1, 2, 3, 'add 1']\n"
     ]
    }
   ],
   "source": [
    "num = 10\n",
    "mlist = [1,2,3]\n",
    "print(num, mlist)\n",
    "call_by_value(num, mlist)\n",
    "print(num, mlist)"
   ]
  },
  {
   "cell_type": "code",
   "execution_count": 8,
   "metadata": {},
   "outputs": [],
   "source": [
    "def pr2():\n",
    "    # pass\n",
    "    print('pr2')"
   ]
  },
  {
   "cell_type": "code",
   "execution_count": 9,
   "metadata": {},
   "outputs": [
    {
     "name": "stdout",
     "output_type": "stream",
     "text": [
      "pr2\n",
      "None\n"
     ]
    }
   ],
   "source": [
    "a = pr2()\n",
    "print(a)"
   ]
  },
  {
   "cell_type": "code",
   "execution_count": 14,
   "metadata": {},
   "outputs": [
    {
     "name": "stdout",
     "output_type": "stream",
     "text": [
      "Hello World\n"
     ]
    }
   ],
   "source": [
    "def hello_message( ):\n",
    "    print(\"Hello World\")\n",
    "\n",
    "if  __name__== \"__main__\" :\n",
    "    hello_message( )\n"
   ]
  },
  {
   "cell_type": "code",
   "execution_count": 16,
   "metadata": {},
   "outputs": [
    {
     "name": "stdout",
     "output_type": "stream",
     "text": [
      "Hello World\n",
      "Hello World\n",
      "Hello World\n"
     ]
    }
   ],
   "source": [
    "def hello_message( repeat_count ) :\n",
    "\tfor item in range(repeat_count) :\n",
    "\t\tprint(\"Hello World\")  \n",
    "if __name__ == \"__main__\" :\n",
    "\thello_message(1)  \n",
    "\thello_message(2)\n"
   ]
  },
  {
   "cell_type": "code",
   "execution_count": null,
   "metadata": {},
   "outputs": [],
   "source": []
  }
 ],
 "metadata": {
  "kernelspec": {
   "display_name": "Python 3",
   "language": "python",
   "name": "python3"
  },
  "language_info": {
   "codemirror_mode": {
    "name": "ipython",
    "version": 3
   },
   "file_extension": ".py",
   "mimetype": "text/x-python",
   "name": "python",
   "nbconvert_exporter": "python",
   "pygments_lexer": "ipython3",
   "version": "3.6.5"
  }
 },
 "nbformat": 4,
 "nbformat_minor": 2
}
