{
 "cells": [
  {
   "cell_type": "code",
   "execution_count": 1,
   "metadata": {},
   "outputs": [],
   "source": [
    "import pandas as pd\n",
    "import seaborn as sns\n",
    "import re\n",
    "\n",
    "%matplotlib inline"
   ]
  },
  {
   "cell_type": "code",
   "execution_count": 2,
   "metadata": {},
   "outputs": [
    {
     "data": {
      "text/plain": [
       "(2954, 5)"
      ]
     },
     "execution_count": 2,
     "metadata": {},
     "output_type": "execute_result"
    }
   ],
   "source": [
    "df = pd.read_csv(\"civilappeal.csv\")\n",
    "df.shape"
   ]
  },
  {
   "cell_type": "code",
   "execution_count": 3,
   "metadata": {},
   "outputs": [
    {
     "data": {
      "text/html": [
       "<div>\n",
       "<style scoped>\n",
       "    .dataframe tbody tr th:only-of-type {\n",
       "        vertical-align: middle;\n",
       "    }\n",
       "\n",
       "    .dataframe tbody tr th {\n",
       "        vertical-align: top;\n",
       "    }\n",
       "\n",
       "    .dataframe thead th {\n",
       "        text-align: right;\n",
       "    }\n",
       "</style>\n",
       "<table border=\"1\" class=\"dataframe\">\n",
       "  <thead>\n",
       "    <tr style=\"text-align: right;\">\n",
       "      <th></th>\n",
       "      <th>번호</th>\n",
       "      <th>카테고리</th>\n",
       "      <th>제목</th>\n",
       "      <th>내용</th>\n",
       "      <th>태그</th>\n",
       "    </tr>\n",
       "  </thead>\n",
       "  <tbody>\n",
       "    <tr>\n",
       "      <th>0</th>\n",
       "      <td>2897888</td>\n",
       "      <td>복지</td>\n",
       "      <td>여성복지상담소 어디에 있나요?</td>\n",
       "      <td>- 여성복지상담소는    독산1동 289-7번지 한빛빌딩 4층 자원봉사센터 내에 있...</td>\n",
       "      <td>사회보장과복지,여성복지,벧엘케어상담소</td>\n",
       "    </tr>\n",
       "    <tr>\n",
       "      <th>1</th>\n",
       "      <td>2897889</td>\n",
       "      <td>복지</td>\n",
       "      <td>여성복지상담소는 모든 상담이 무료인가요?</td>\n",
       "      <td>- 네. 그렇습니다.    여성복지상담소는 금천구에서 직영하는 상담소로서    모든...</td>\n",
       "      <td>사회보장과복지,여성복지,벧엘케어상담소</td>\n",
       "    </tr>\n",
       "    <tr>\n",
       "      <th>2</th>\n",
       "      <td>2895764</td>\n",
       "      <td>행정ㆍ기타</td>\n",
       "      <td>진정민원 제출시 증빙서류를 받을수 있나요?</td>\n",
       "      <td>- 진정민원 제출시 민원복지동 1층 민원여권과에서 접수증을 발부하여 드리고 있습니다.</td>\n",
       "      <td>구정일반,민원관리,통합민원실안내</td>\n",
       "    </tr>\n",
       "    <tr>\n",
       "      <th>3</th>\n",
       "      <td>2898246</td>\n",
       "      <td>재정ㆍ세금</td>\n",
       "      <td>은평구에는 어떤종류의 하천이 있습니까 예를 들면 국가하천,지방하천 등</td>\n",
       "      <td>- 은평구는 국가하천은 없습니다.  지방하천으로 불광천,녹번천이 있고, 소하천으로 ...</td>\n",
       "      <td>세금과재정,재정,일상경비관리</td>\n",
       "    </tr>\n",
       "    <tr>\n",
       "      <th>4</th>\n",
       "      <td>2897030</td>\n",
       "      <td>행정ㆍ기타</td>\n",
       "      <td>[정보통신] 통신관련 민원처리기관과 통신사업자 민원처리 안내번호</td>\n",
       "      <td>- 업무개요     통신관련 민원 전화번호 정리      업무내용     ▣ 통신관...</td>\n",
       "      <td>통신,정보자원관리,시스템및정보보호</td>\n",
       "    </tr>\n",
       "  </tbody>\n",
       "</table>\n",
       "</div>"
      ],
      "text/plain": [
       "        번호   카테고리                                      제목  \\\n",
       "0  2897888     복지                        여성복지상담소 어디에 있나요?   \n",
       "1  2897889     복지                  여성복지상담소는 모든 상담이 무료인가요?   \n",
       "2  2895764  행정ㆍ기타                 진정민원 제출시 증빙서류를 받을수 있나요?   \n",
       "3  2898246  재정ㆍ세금  은평구에는 어떤종류의 하천이 있습니까 예를 들면 국가하천,지방하천 등   \n",
       "4  2897030  행정ㆍ기타     [정보통신] 통신관련 민원처리기관과 통신사업자 민원처리 안내번호   \n",
       "\n",
       "                                                  내용                    태그  \n",
       "0  - 여성복지상담소는    독산1동 289-7번지 한빛빌딩 4층 자원봉사센터 내에 있...  사회보장과복지,여성복지,벧엘케어상담소  \n",
       "1  - 네. 그렇습니다.    여성복지상담소는 금천구에서 직영하는 상담소로서    모든...  사회보장과복지,여성복지,벧엘케어상담소  \n",
       "2    - 진정민원 제출시 민원복지동 1층 민원여권과에서 접수증을 발부하여 드리고 있습니다.     구정일반,민원관리,통합민원실안내  \n",
       "3  - 은평구는 국가하천은 없습니다.  지방하천으로 불광천,녹번천이 있고, 소하천으로 ...       세금과재정,재정,일상경비관리  \n",
       "4  - 업무개요     통신관련 민원 전화번호 정리      업무내용     ▣ 통신관...    통신,정보자원관리,시스템및정보보호  "
      ]
     },
     "execution_count": 3,
     "metadata": {},
     "output_type": "execute_result"
    }
   ],
   "source": [
    "df.head()"
   ]
  },
  {
   "cell_type": "code",
   "execution_count": 4,
   "metadata": {},
   "outputs": [
    {
     "data": {
      "text/plain": [
       "행정ㆍ기타      1179\n",
       "경제          907\n",
       "복지          226\n",
       "환경          144\n",
       "주택ㆍ도시계획     121\n",
       "문화ㆍ관광       118\n",
       "교통ㆍ건설        81\n",
       "안전           63\n",
       "건강ㆍ식품        54\n",
       "재정ㆍ세금        48\n",
       "여성ㆍ가족        13\n",
       "Name: 카테고리, dtype: int64"
      ]
     },
     "execution_count": 4,
     "metadata": {},
     "output_type": "execute_result"
    }
   ],
   "source": [
    "df[\"카테고리\"].value_counts()"
   ]
  },
  {
   "cell_type": "code",
   "execution_count": 5,
   "metadata": {},
   "outputs": [
    {
     "data": {
      "text/plain": [
       "<matplotlib.axes._subplots.AxesSubplot at 0x11496c208>"
      ]
     },
     "execution_count": 5,
     "metadata": {},
     "output_type": "execute_result"
    },
    {
     "data": {
      "image/png": "[encoded data removed]",
      "text/plain": [
       "<matplotlib.figure.Figure at 0x10640f908>"
      ]
     },
     "metadata": {},
     "output_type": "display_data"
    }
   ],
   "source": [
    "sns.countplot(data=df, y=\"카테고리\")"
   ]
  },
  {
   "cell_type": "code",
   "execution_count": 6,
   "metadata": {},
   "outputs": [
    {
     "data": {
      "text/plain": [
       "'- 네. 그렇습니다.    여성복지상담소는 금천구에서 직영하는 상담소로서    모든 상담이 무료로 진행되고 있습니다.'"
      ]
     },
     "execution_count": 6,
     "metadata": {},
     "output_type": "execute_result"
    }
   ],
   "source": [
    "# 공백문자가 여러개 들어가는 문자에 대해 전처리가 필요\n",
    "sample_content = df.iloc[1][\"내용\"]\n",
    "sample_content"
   ]
  },
  {
   "cell_type": "code",
   "execution_count": 7,
   "metadata": {},
   "outputs": [
    {
     "data": {
      "text/plain": [
       "'- 네. 그렇습니다. 여성복지상담소는 금천구에서 직영하는 상담소로서 모든 상담이 무료로 진행되고 있습니다.'"
      ]
     },
     "execution_count": 7,
     "metadata": {},
     "output_type": "execute_result"
    }
   ],
   "source": [
    "# 공백이 여러 개 들어가는 문자에 대해 하나로 바꿔주는 전처리를 해준다.\n",
    "sample_content = re.sub(\" +\", \" \", sample_content)\n",
    "sample_content"
   ]
  },
  {
   "cell_type": "code",
   "execution_count": null,
   "metadata": {},
   "outputs": [],
   "source": []
  }
 ],
 "metadata": {
  "kernelspec": {
   "display_name": "Python 3",
   "language": "python",
   "name": "python3"
  },
  "language_info": {
   "codemirror_mode": {
    "name": "ipython",
    "version": 3
   },
   "file_extension": ".py",
   "mimetype": "text/x-python",
   "name": "python",
   "nbconvert_exporter": "python",
   "pygments_lexer": "ipython3",
   "version": "3.6.1"
  }
 },
 "nbformat": 4,
 "nbformat_minor": 2
}
