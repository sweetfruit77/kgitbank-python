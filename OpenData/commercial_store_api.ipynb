{
 "cells": [
  {
   "cell_type": "markdown",
   "metadata": {},
   "source": [
    "# 상가(상권)정보\n",
    "\n",
    "https://www.data.go.kr/dataset/15012005/openapi.do"
   ]
  },
  {
   "cell_type": "code",
   "execution_count": 1,
   "metadata": {},
   "outputs": [],
   "source": [
    "import os\n",
    "# API 키는 환경변수에 따로 저장해 놓고 사용\n",
    "api_key = os.environ['OPEN_API_KEY_STORE']"
   ]
  },
  {
   "cell_type": "code",
   "execution_count": 2,
   "metadata": {},
   "outputs": [],
   "source": [
    "from urllib.parse import urlencode\n",
    "from urllib.parse import unquote\n",
    "from urllib import request\n",
    "import xml.etree.ElementTree as ET\n",
    "\n",
    "class API:\n",
    "  def __init__(self, key):\n",
    "    self._key = unquote(key)\n",
    "\n",
    "  def http_get(self, endpoint, params):\n",
    "    params_with_key = params.copy()\n",
    "    params_with_key['ServiceKey'] = unquote(self._key)\n",
    "    url = endpoint + '?' + urlencode(params_with_key)\n",
    "    with request.urlopen(url) as f:\n",
    "      res = f.read().decode('utf-8')\n",
    "      return ET.fromstring(res)\n",
    "\n",
    "api = API(api_key)"
   ]
  },
  {
   "cell_type": "code",
   "execution_count": 3,
   "metadata": {},
   "outputs": [],
   "source": [
    "xml = api.http_get(\n",
    "    'http://apis.data.go.kr/B553077/api/open/sdsc/baroApi',\n",
    "    {'resId': 'storezone'}\n",
    ")"
   ]
  },
  {
   "cell_type": "code",
   "execution_count": 4,
   "metadata": {},
   "outputs": [],
   "source": [
    "# https://stackoverflow.com/questions/2148119/how-to-convert-an-xml-string-to-a-dictionary-in-python\n",
    "from collections import defaultdict\n",
    "\n",
    "def etree_to_dict(t):\n",
    "    d = {t.tag: {} if t.attrib else None}\n",
    "    children = list(t)\n",
    "    if children:\n",
    "        dd = defaultdict(list)\n",
    "        for dc in map(etree_to_dict, children):\n",
    "            for k, v in dc.items():\n",
    "                dd[k].append(v)\n",
    "        d = {t.tag: {k:v[0] if len(v) == 1 else v for k, v in dd.items()}}\n",
    "    if t.attrib:\n",
    "        d[t.tag].update(('@' + k, v) for k, v in t.attrib.items())\n",
    "    if t.text:\n",
    "        text = t.text.strip()\n",
    "        if children or t.attrib:\n",
    "            if text:\n",
    "              d[t.tag]['#text'] = text\n",
    "        else:\n",
    "            d[t.tag] = text\n",
    "    return d"
   ]
  },
  {
   "cell_type": "code",
   "execution_count": 5,
   "metadata": {},
   "outputs": [
    {
     "data": {
      "text/plain": [
       "{'columns': '상권번호,상권명,시도코드,시도명,시군구코드,시군구명,상권면적,좌표개수,좌표값,데이터기준일자',\n",
       " 'description': '소상공인시장진흥공단 주요상권',\n",
       " 'resultCode': '00',\n",
       " 'resultMsg': 'NORMAL SERVICE'}"
      ]
     },
     "execution_count": 5,
     "metadata": {},
     "output_type": "execute_result"
    }
   ],
   "source": [
    "response_dict = etree_to_dict(xml)\n",
    "response_dict = response_dict['response']\n",
    "header = response_dict['header']\n",
    "header"
   ]
  },
  {
   "cell_type": "code",
   "execution_count": 6,
   "metadata": {},
   "outputs": [],
   "source": [
    "df_cols = header['columns']"
   ]
  },
  {
   "cell_type": "code",
   "execution_count": 7,
   "metadata": {},
   "outputs": [
    {
     "data": {
      "text/plain": [
       "(1170, 10)"
      ]
     },
     "execution_count": 7,
     "metadata": {},
     "output_type": "execute_result"
    }
   ],
   "source": [
    "import pandas as pd\n",
    "\n",
    "result = pd.DataFrame.from_dict(response_dict['body']['items']['item'])\n",
    "result.shape"
   ]
  },
  {
   "cell_type": "code",
   "execution_count": 8,
   "metadata": {},
   "outputs": [
    {
     "data": {
      "text/html": [
       "<div>\n",
       "<style scoped>\n",
       "    .dataframe tbody tr th:only-of-type {\n",
       "        vertical-align: middle;\n",
       "    }\n",
       "\n",
       "    .dataframe tbody tr th {\n",
       "        vertical-align: top;\n",
       "    }\n",
       "\n",
       "    .dataframe thead th {\n",
       "        text-align: right;\n",
       "    }\n",
       "</style>\n",
       "<table border=\"1\" class=\"dataframe\">\n",
       "  <thead>\n",
       "    <tr style=\"text-align: right;\">\n",
       "      <th></th>\n",
       "      <th>coordNum</th>\n",
       "      <th>coords</th>\n",
       "      <th>ctprvnCd</th>\n",
       "      <th>ctprvnNm</th>\n",
       "      <th>mainTrarNm</th>\n",
       "      <th>signguCd</th>\n",
       "      <th>signguNm</th>\n",
       "      <th>stdrDt</th>\n",
       "      <th>trarArea</th>\n",
       "      <th>trarNo</th>\n",
       "    </tr>\n",
       "  </thead>\n",
       "  <tbody>\n",
       "    <tr>\n",
       "      <th>0</th>\n",
       "      <td>24</td>\n",
       "      <td>POLYGON ((127.015141 37.486601, 127.014701 37....</td>\n",
       "      <td>11</td>\n",
       "      <td>서울특별시</td>\n",
       "      <td>서울 서초구 남부터미널역_2</td>\n",
       "      <td>11650</td>\n",
       "      <td>서초구</td>\n",
       "      <td>2015-12-17</td>\n",
       "      <td>85529</td>\n",
       "      <td>1845</td>\n",
       "    </tr>\n",
       "    <tr>\n",
       "      <th>1</th>\n",
       "      <td>39</td>\n",
       "      <td>POLYGON ((127.015723 37.487831, 127.016185 37....</td>\n",
       "      <td>11</td>\n",
       "      <td>서울특별시</td>\n",
       "      <td>서울 서초구 남부터미널역_3</td>\n",
       "      <td>11650</td>\n",
       "      <td>서초구</td>\n",
       "      <td>2015-12-17</td>\n",
       "      <td>48833.6</td>\n",
       "      <td>1849</td>\n",
       "    </tr>\n",
       "    <tr>\n",
       "      <th>2</th>\n",
       "      <td>24</td>\n",
       "      <td>POLYGON ((126.983867 37.487274, 126.983876 37....</td>\n",
       "      <td>11</td>\n",
       "      <td>서울특별시</td>\n",
       "      <td>서울 동작구 총신대입구역</td>\n",
       "      <td>11650</td>\n",
       "      <td>서초구</td>\n",
       "      <td>2015-12-17</td>\n",
       "      <td>43176</td>\n",
       "      <td>1850</td>\n",
       "    </tr>\n",
       "    <tr>\n",
       "      <th>3</th>\n",
       "      <td>7</td>\n",
       "      <td>POLYGON ((127.035961 37.46077, 127.037071 37.4...</td>\n",
       "      <td>11</td>\n",
       "      <td>서울특별시</td>\n",
       "      <td>양재 화물트럭터미널앞_1</td>\n",
       "      <td>11650</td>\n",
       "      <td>서초구</td>\n",
       "      <td>2015-12-17</td>\n",
       "      <td>31097.1</td>\n",
       "      <td>1744</td>\n",
       "    </tr>\n",
       "    <tr>\n",
       "      <th>4</th>\n",
       "      <td>66</td>\n",
       "      <td>POLYGON ((127.031755 37.488972, 127.031543 37....</td>\n",
       "      <td>11</td>\n",
       "      <td>서울특별시</td>\n",
       "      <td>양재역_3</td>\n",
       "      <td>11650</td>\n",
       "      <td>서초구</td>\n",
       "      <td>2015-12-17</td>\n",
       "      <td>119300.7</td>\n",
       "      <td>1851</td>\n",
       "    </tr>\n",
       "  </tbody>\n",
       "</table>\n",
       "</div>"
      ],
      "text/plain": [
       "  coordNum                                             coords ctprvnCd  \\\n",
       "0       24  POLYGON ((127.015141 37.486601, 127.014701 37....       11   \n",
       "1       39  POLYGON ((127.015723 37.487831, 127.016185 37....       11   \n",
       "2       24  POLYGON ((126.983867 37.487274, 126.983876 37....       11   \n",
       "3        7  POLYGON ((127.035961 37.46077, 127.037071 37.4...       11   \n",
       "4       66  POLYGON ((127.031755 37.488972, 127.031543 37....       11   \n",
       "\n",
       "  ctprvnNm       mainTrarNm signguCd signguNm      stdrDt  trarArea trarNo  \n",
       "0    서울특별시  서울 서초구 남부터미널역_2    11650      서초구  2015-12-17     85529   1845  \n",
       "1    서울특별시  서울 서초구 남부터미널역_3    11650      서초구  2015-12-17   48833.6   1849  \n",
       "2    서울특별시    서울 동작구 총신대입구역    11650      서초구  2015-12-17     43176   1850  \n",
       "3    서울특별시    양재 화물트럭터미널앞_1    11650      서초구  2015-12-17   31097.1   1744  \n",
       "4    서울특별시            양재역_3    11650      서초구  2015-12-17  119300.7   1851  "
      ]
     },
     "execution_count": 8,
     "metadata": {},
     "output_type": "execute_result"
    }
   ],
   "source": [
    "result.head()"
   ]
  },
  {
   "cell_type": "code",
   "execution_count": null,
   "metadata": {},
   "outputs": [],
   "source": []
  }
 ],
 "metadata": {
  "kernelspec": {
   "display_name": "Python 3",
   "language": "python",
   "name": "python3"
  },
  "language_info": {
   "codemirror_mode": {
    "name": "ipython",
    "version": 3
   },
   "file_extension": ".py",
   "mimetype": "text/x-python",
   "name": "python",
   "nbconvert_exporter": "python",
   "pygments_lexer": "ipython3",
   "version": "3.6.1"
  }
 },
 "nbformat": 4,
 "nbformat_minor": 2
}
