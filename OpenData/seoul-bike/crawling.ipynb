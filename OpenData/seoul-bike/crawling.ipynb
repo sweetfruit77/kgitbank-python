{
 "cells": [
  {
   "cell_type": "markdown",
   "metadata": {},
   "source": [
    "# 크롤링으로 위경도 가져오기\n",
    "* 따릉이 대여소 정보 가져오기"
   ]
  },
  {
   "cell_type": "code",
   "execution_count": 1,
   "metadata": {},
   "outputs": [],
   "source": [
    "import requests\n",
    "from bs4 import BeautifulSoup as bs\n",
    "import random\n",
    "import time\n",
    "from tqdm import tqdm, trange\n",
    "\n",
    "rent_stations = []\n",
    "base_url = 'https://www.bikeseoul.com/app/station/moveStationSearchView.do?currentPageNo='\n",
    "\n",
    "def crawling_rent_station(start, end):\n",
    "    for num in trange(start, end+1):\n",
    "        response = requests.get( base_url + str(num))\n",
    "        if response.status_code == 200:\n",
    "            # response 값을 전달해 각 대여소의 상세 정보를 받아온다.\n",
    "            info = station_info(response)\n",
    "            # 결과 값을 받아 리스트에 대여소를 추가한다.\n",
    "            rent_stations.append(info) \n",
    "        time.sleep(random.randint(1,2))\n",
    "    return rent_stations"
   ]
  },
  {
   "cell_type": "code",
   "execution_count": 2,
   "metadata": {},
   "outputs": [],
   "source": [
    "def station_info(response):\n",
    "    soup = bs(response.text, 'html.parser')\n",
    "    trs = soup.select('table.psboard1 > tbody')[0].find_all('tr')\n",
    "    for tr in trs:\n",
    "        # 대여소 정보를 담아준다.\n",
    "        info = []\n",
    "        # 대여소명\n",
    "        name = tr.select('td.pl10')[0].get_text(strip=True)\n",
    "        if '.' in name:\n",
    "            info.append(name.split('.')[-1].lstrip())\n",
    "        else:\n",
    "            info.append(name)\n",
    "        # 운영여부\n",
    "        info.append(tr.select('td.pl10')[1].get_text(strip=True))\n",
    "        # 주소\n",
    "        info.append(tr.select('td.mhid')[0].get_text(strip=True))\n",
    "        # 위도, 경도\n",
    "        geo = tr.find('a')['param-data'].split(',')\n",
    "        info.append(geo[0])\n",
    "        info.append(geo[1])\n",
    "        # 거치대수, 대여가능수\n",
    "        bike_count_1 = tr.select('td.tr')[0].get_text(strip=True)\n",
    "        bike_count_2 = tr.select('td.tr')[1].get_text(strip=True)\n",
    "        info.append(bike_count_1)\n",
    "        info.append(bike_count_2)\n",
    "    return info"
   ]
  },
  {
   "cell_type": "code",
   "execution_count": 3,
   "metadata": {},
   "outputs": [
    {
     "name": "stderr",
     "output_type": "stream",
     "text": [
      "100%|██████████| 2/2 [00:05<00:00,  2.91s/it]\n"
     ]
    }
   ],
   "source": [
    "# 처음엔 한 두 페이지정도를 크롤링해보고 정상으로 동작하면 전체를 크롤링한다.\n",
    "rent_stations = crawling_rent_station(1, 2)\n",
    "# rent_stations = crawling_rent_station(1, 293)"
   ]
  },
  {
   "cell_type": "code",
   "execution_count": 4,
   "metadata": {},
   "outputs": [
    {
     "data": {
      "text/plain": [
       "(2, 7)"
      ]
     },
     "execution_count": 4,
     "metadata": {},
     "output_type": "execute_result"
    }
   ],
   "source": [
    "import pandas as pd\n",
    "header = ['대여소','상태','주소','위도','경도', '거치대수', '대여가능수']\n",
    "df = pd.DataFrame.from_records(rent_stations, columns = header)\n",
    "df.shape"
   ]
  },
  {
   "cell_type": "code",
   "execution_count": 5,
   "metadata": {},
   "outputs": [
    {
     "data": {
      "text/html": [
       "<div>\n",
       "<style scoped>\n",
       "    .dataframe tbody tr th:only-of-type {\n",
       "        vertical-align: middle;\n",
       "    }\n",
       "\n",
       "    .dataframe tbody tr th {\n",
       "        vertical-align: top;\n",
       "    }\n",
       "\n",
       "    .dataframe thead th {\n",
       "        text-align: right;\n",
       "    }\n",
       "</style>\n",
       "<table border=\"1\" class=\"dataframe\">\n",
       "  <thead>\n",
       "    <tr style=\"text-align: right;\">\n",
       "      <th></th>\n",
       "      <th>대여소</th>\n",
       "      <th>상태</th>\n",
       "      <th>주소</th>\n",
       "      <th>위도</th>\n",
       "      <th>경도</th>\n",
       "      <th>거치대수</th>\n",
       "      <th>대여가능수</th>\n",
       "    </tr>\n",
       "  </thead>\n",
       "  <tbody>\n",
       "    <tr>\n",
       "      <th>0</th>\n",
       "      <td>롯데캐슬 115동앞</td>\n",
       "      <td>운영중</td>\n",
       "      <td>서울특별시 강동구 양재대로 1665 명일동 304</td>\n",
       "      <td>37.554920</td>\n",
       "      <td>127.142799</td>\n",
       "      <td>15</td>\n",
       "      <td>10</td>\n",
       "    </tr>\n",
       "    <tr>\n",
       "      <th>1</th>\n",
       "      <td>강동세무서</td>\n",
       "      <td>운영중</td>\n",
       "      <td>서울특별시 강동구 천호대로 1139 길동 467</td>\n",
       "      <td>37.534481</td>\n",
       "      <td>127.138344</td>\n",
       "      <td>20</td>\n",
       "      <td>11</td>\n",
       "    </tr>\n",
       "  </tbody>\n",
       "</table>\n",
       "</div>"
      ],
      "text/plain": [
       "          대여소   상태                           주소         위도          경도 거치대수  \\\n",
       "0  롯데캐슬 115동앞  운영중  서울특별시 강동구 양재대로 1665 명일동 304  37.554920  127.142799   15   \n",
       "1       강동세무서  운영중   서울특별시 강동구 천호대로 1139 길동 467  37.534481  127.138344   20   \n",
       "\n",
       "  대여가능수  \n",
       "0    10  \n",
       "1    11  "
      ]
     },
     "execution_count": 5,
     "metadata": {},
     "output_type": "execute_result"
    }
   ],
   "source": [
    "df.head()"
   ]
  },
  {
   "cell_type": "code",
   "execution_count": 6,
   "metadata": {},
   "outputs": [],
   "source": [
    "df.to_csv('data/bike_rent_station.csv', index=False)"
   ]
  },
  {
   "cell_type": "code",
   "execution_count": 7,
   "metadata": {},
   "outputs": [
    {
     "name": "stdout",
     "output_type": "stream",
     "text": [
      "data/bike_rent_station.csv\n"
     ]
    }
   ],
   "source": [
    "# 파일이 제대로 생성되었는지 확인\n",
    "%ls data/bike_rent_station.csv"
   ]
  },
  {
   "cell_type": "code",
   "execution_count": null,
   "metadata": {},
   "outputs": [],
   "source": []
  }
 ],
 "metadata": {
  "kernelspec": {
   "display_name": "Python 3",
   "language": "python",
   "name": "python3"
  },
  "language_info": {
   "codemirror_mode": {
    "name": "ipython",
    "version": 3
   },
   "file_extension": ".py",
   "mimetype": "text/x-python",
   "name": "python",
   "nbconvert_exporter": "python",
   "pygments_lexer": "ipython3",
   "version": "3.6.1"
  }
 },
 "nbformat": 4,
 "nbformat_minor": 2
}
