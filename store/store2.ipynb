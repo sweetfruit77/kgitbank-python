{
 "cells": [
  {
   "cell_type": "markdown",
   "metadata": {},
   "source": [
    "# 소상공인시장진흥공단 상가업소정보 2018년 12월"
   ]
  },
  {
   "cell_type": "markdown",
   "metadata": {},
   "source": [
    "* https://www.data.go.kr/dataset/15012005/fileData.do"
   ]
  },
  {
   "cell_type": "code",
   "execution_count": null,
   "metadata": {},
   "outputs": [],
   "source": [
    "import warnings\n",
    "warnings.filterwarnings('ignore')"
   ]
  },
  {
   "cell_type": "code",
   "execution_count": null,
   "metadata": {},
   "outputs": [],
   "source": [
    "import pandas as pd\n",
    "import numpy as np\n",
    "from plotnine import *"
   ]
  },
  {
   "cell_type": "code",
   "execution_count": null,
   "metadata": {},
   "outputs": [],
   "source": [
    "# Window에서는 dir을 사용합니다.\n",
    "%ls data"
   ]
  },
  {
   "cell_type": "code",
   "execution_count": null,
   "metadata": {},
   "outputs": [],
   "source": [
    "shop_2018 = pd.read_csv('data/소상공인시장진흥공단_상가업소정보_201812_1.csv', engine='python')\n",
    "shop_2018.head()"
   ]
  },
  {
   "cell_type": "code",
   "execution_count": null,
   "metadata": {},
   "outputs": [],
   "source": [
    "shop_2018.shape"
   ]
  },
  {
   "cell_type": "code",
   "execution_count": null,
   "metadata": {},
   "outputs": [],
   "source": [
    "coffee = shop_2018[shop_2018['상권업종소분류명'].str.contains('커피')]\n",
    "coffee.shape"
   ]
  },
  {
   "cell_type": "code",
   "execution_count": null,
   "metadata": {},
   "outputs": [],
   "source": [
    "coffee.columns"
   ]
  },
  {
   "cell_type": "code",
   "execution_count": null,
   "metadata": {},
   "outputs": [],
   "source": [
    "# 상호명으로 봤을 때 커피점이 12472개가 있다.\n",
    "coffee['상호명'].unique().shape"
   ]
  },
  {
   "cell_type": "code",
   "execution_count": null,
   "metadata": {},
   "outputs": [],
   "source": [
    "coffee.loc[coffee['상호명'].str.contains('스타벅스'), '상호명'].unique()"
   ]
  },
  {
   "cell_type": "code",
   "execution_count": null,
   "metadata": {},
   "outputs": [],
   "source": [
    "coffee['시도명'].isnull().sum()"
   ]
  },
  {
   "cell_type": "code",
   "execution_count": null,
   "metadata": {},
   "outputs": [],
   "source": [
    "# 지난 데이터와 마찬가지로 서울과 부산만 있습니다.\n",
    "# 다른 지역을 참고하고 싶다면 같은 폴더에 있는 다른 파일을 참고해 주세요.\n",
    "coffee['시도명'].value_counts()"
   ]
  },
  {
   "cell_type": "code",
   "execution_count": null,
   "metadata": {},
   "outputs": [],
   "source": [
    "coffee['시군구명'].unique()"
   ]
  },
  {
   "cell_type": "code",
   "execution_count": null,
   "metadata": {},
   "outputs": [],
   "source": [
    "coffee['상권업종중분류명'].value_counts()"
   ]
  },
  {
   "cell_type": "code",
   "execution_count": null,
   "metadata": {},
   "outputs": [],
   "source": [
    "(ggplot(shop_2018[:1000])\n",
    " + aes(x='경도', y='위도')\n",
    " + geom_point()\n",
    " + theme(text=element_text(family='NanumBarunGothic'))\n",
    ")"
   ]
  },
  {
   "cell_type": "code",
   "execution_count": null,
   "metadata": {},
   "outputs": [],
   "source": [
    "df_seoul = shop_2018.loc[shop_2018['시도명'].str.startswith('서울')].copy()\n",
    "df_seoul.shape"
   ]
  },
  {
   "cell_type": "code",
   "execution_count": null,
   "metadata": {},
   "outputs": [],
   "source": [
    "df_seoul.isnull().sum()"
   ]
  },
  {
   "cell_type": "code",
   "execution_count": null,
   "metadata": {},
   "outputs": [],
   "source": [
    "df_seoul['상권업종대분류명'].value_counts()"
   ]
  },
  {
   "cell_type": "code",
   "execution_count": null,
   "metadata": {},
   "outputs": [],
   "source": [
    "df_seoul.describe(include=np.object)"
   ]
  },
  {
   "cell_type": "code",
   "execution_count": null,
   "metadata": {},
   "outputs": [],
   "source": [
    "df_seoul[['위도', '경도']].describe(include=np.number)"
   ]
  },
  {
   "cell_type": "code",
   "execution_count": null,
   "metadata": {},
   "outputs": [],
   "source": [
    "(ggplot(df_seoul)\n",
    " + aes('상권업종대분류명')\n",
    " + geom_bar(fill='#8181F7')\n",
    " + ggtitle('상권업종대분류명')\n",
    " + coord_flip()\n",
    " + theme(text=element_text(family='NanumBarunGothic'),\n",
    "        axis_text_x=element_text(rotation=60))\n",
    ")"
   ]
  },
  {
   "cell_type": "code",
   "execution_count": null,
   "metadata": {},
   "outputs": [],
   "source": [
    "df_food = df_seoul.loc[df_seoul['상권업종대분류명'].str.contains('음식')]\n",
    "df_food.shape"
   ]
  },
  {
   "cell_type": "code",
   "execution_count": null,
   "metadata": {},
   "outputs": [],
   "source": [
    "(ggplot(df_food)\n",
    " + aes('상권업종중분류명')\n",
    " + geom_bar(fill='#817FEE')\n",
    " + ggtitle('상권업종중분류명')\n",
    " + coord_flip()\n",
    " + theme(text=element_text(family='NanumBarunGothic'),\n",
    "        axis_text_x=element_text(rotation=60))\n",
    ")"
   ]
  },
  {
   "cell_type": "code",
   "execution_count": null,
   "metadata": {},
   "outputs": [],
   "source": [
    "df_fast_food = df_food.loc[df_food['상권업종중분류명'] == '패스트푸드']\n",
    "df_fast_food.shape"
   ]
  },
  {
   "cell_type": "code",
   "execution_count": null,
   "metadata": {},
   "outputs": [],
   "source": [
    "df_food.columns"
   ]
  },
  {
   "cell_type": "code",
   "execution_count": null,
   "metadata": {},
   "outputs": [],
   "source": [
    "df_fast_food['상호명'].unique()"
   ]
  },
  {
   "cell_type": "markdown",
   "metadata": {},
   "source": [
    "# 배스킨라빈스와 던킨도너츠 입지분석"
   ]
  },
  {
   "cell_type": "code",
   "execution_count": null,
   "metadata": {},
   "outputs": [],
   "source": [
    "df_31 = df_seoul[df_seoul['상호명'].str.contains('배스킨|던킨')].copy()\n",
    "df_31.shape"
   ]
  },
  {
   "cell_type": "code",
   "execution_count": null,
   "metadata": {},
   "outputs": [],
   "source": [
    "df_31 = df_31[['상호명', '지점명', '상권업종대분류명', '상권업종중분류명', \n",
    "               '지번주소', '도로명주소',  '위도', '경도', '시군구명', '행정동명']].copy()\n",
    "df_31.columns"
   ]
  },
  {
   "cell_type": "code",
   "execution_count": null,
   "metadata": {},
   "outputs": [],
   "source": [
    "df_31.head()"
   ]
  },
  {
   "cell_type": "code",
   "execution_count": null,
   "metadata": {},
   "outputs": [],
   "source": [
    "df_31['상호명'].value_counts()"
   ]
  },
  {
   "cell_type": "code",
   "execution_count": null,
   "metadata": {},
   "outputs": [],
   "source": [
    "# 브랜드명이라는 컬럼을 새로 만들어줍니다.\n",
    "df_31['브랜드명'] = ''"
   ]
  },
  {
   "cell_type": "code",
   "execution_count": null,
   "metadata": {},
   "outputs": [],
   "source": [
    "df_31[['상호명', '브랜드명']].head()"
   ]
  },
  {
   "cell_type": "code",
   "execution_count": null,
   "metadata": {},
   "outputs": [],
   "source": [
    "df_31.loc[df_31['상호명'].str.contains('배스킨'), '브랜드명'] = '배스킨라빈스'\n",
    "df_31.loc[df_31['상호명'].str.contains('던킨'), '브랜드명'] = '던킨도너츠'"
   ]
  },
  {
   "cell_type": "code",
   "execution_count": null,
   "metadata": {},
   "outputs": [],
   "source": [
    "df_31[['상호명', '브랜드명']].head()"
   ]
  },
  {
   "cell_type": "code",
   "execution_count": null,
   "metadata": {},
   "outputs": [],
   "source": [
    "df_31_group_count = df_31['브랜드명'].value_counts()\n",
    "df_31_group_count"
   ]
  },
  {
   "cell_type": "code",
   "execution_count": null,
   "metadata": {},
   "outputs": [],
   "source": [
    "df_31_ratio = df_31_group_count[0]/df_31_group_count[1]\n",
    "print('제공된 데이터로 봤을 때 서울에는 던킨도너츠보다 배스킨라빈스의 매장이 {0:.2f}배가량 많습니다.'.format(df_31_ratio))"
   ]
  },
  {
   "cell_type": "code",
   "execution_count": null,
   "metadata": {},
   "outputs": [],
   "source": [
    "df_31.info()"
   ]
  },
  {
   "cell_type": "code",
   "execution_count": null,
   "metadata": {},
   "outputs": [],
   "source": [
    "df_31['위도'] = df_31['위도'].astype(float)\n",
    "df_31['경도'] = df_31['경도'].astype(float)"
   ]
  },
  {
   "cell_type": "code",
   "execution_count": null,
   "metadata": {},
   "outputs": [],
   "source": [
    "(ggplot(df_31)\n",
    " + aes(x='경도', y='위도', color='브랜드명')\n",
    " + geom_point()\n",
    " + theme(text=element_text(family='NanumBarunGothic'))\n",
    " + scale_fill_gradient(low = 'blue', high = 'green') \n",
    ")"
   ]
  },
  {
   "cell_type": "markdown",
   "metadata": {},
   "source": [
    "## Folium 사용예제\n",
    "http://nbviewer.jupyter.org/github/python-visualization/folium/tree/master/examples/  \n",
    "\n",
    "https://snscrawler.wordpress.com/tag/folium/  \n",
    "\n",
    "Folium은 기본적으로 ‘Open Street Map’을 기반으로 동작하지만   \n",
    "내부적으로는 ‘Stamen Terrain’, ‘Stamen Toner’, ‘Mapbox Bright’, 와 ‘Mapbox Control room tiles’ 형식을 내장하고 있다."
   ]
  },
  {
   "cell_type": "code",
   "execution_count": null,
   "metadata": {},
   "outputs": [],
   "source": [
    "!pip install folium"
   ]
  },
  {
   "cell_type": "code",
   "execution_count": null,
   "metadata": {},
   "outputs": [],
   "source": [
    "!pip show folium\n",
    "import folium"
   ]
  },
  {
   "cell_type": "code",
   "execution_count": null,
   "metadata": {},
   "outputs": [],
   "source": [
    "# folium.Map?"
   ]
  },
  {
   "cell_type": "code",
   "execution_count": null,
   "metadata": {},
   "outputs": [],
   "source": [
    "geo_df = df_31.copy()\n",
    "\n",
    "# 지도를 초기화 해줄 때 어디를 중심으로 보여줄지 설정합니다.\n",
    "# 우리가 가져온 데이터프레임 안에 있는 데이터를 기준으로 출력할 수 있도록 위경도의 평균값을 구해옵니다.\n",
    "map = folium.Map(location=[geo_df['위도'].mean(), geo_df['경도'].mean()], zoom_start=12)\n",
    "\n",
    "for n in geo_df.index:\n",
    "    # 팝업에 들어갈 텍스트를 지정해 줍니다.\n",
    "    popup_name = geo_df['브랜드명'][n] + ' - ' + geo_df['도로명주소'][n]\n",
    "    # 브랜드명에 따라 아이콘 색상을 달리해서 찍어줍니다.\n",
    "    if geo_df['브랜드명'][n] == '던킨도너츠' :\n",
    "        icon_color = 'pink'\n",
    "    else:\n",
    "        icon_color = 'blue'    \n",
    "    \n",
    "    folium.Marker([geo_df['위도'][n], geo_df['경도'][n]], \n",
    "                  popup=popup_name, \n",
    "                  icon=folium.Icon(color=icon_color)).add_to(map)\n",
    "\n",
    "# 해당경로에 파일로 저장한다.\n",
    "map.save('map.html')\n",
    "map"
   ]
  },
  {
   "cell_type": "code",
   "execution_count": null,
   "metadata": {},
   "outputs": [],
   "source": [
    "map = folium.Map(location=[geo_df['위도'].mean(), geo_df['경도'].mean()], zoom_start=12, tiles='Open Street Map')\n",
    "\n",
    "for n in geo_df.index:\n",
    "    # 팝업에 들어갈 텍스트를 지정해 줍니다.\n",
    "    popup_name = geo_df['브랜드명'][n] + ' - ' + geo_df['도로명주소'][n]\n",
    "    # 브랜드명에 따라 아이콘 색상을 달리해서 찍어줍니다.\n",
    "    if geo_df['브랜드명'][n] == '던킨도너츠' :\n",
    "        icon_color = 'red'\n",
    "    else:\n",
    "        icon_color = 'blue'    \n",
    "    \n",
    "    folium.CircleMarker(\n",
    "        location=[geo_df['위도'][n], geo_df['경도'][n]],\n",
    "        radius=3,\n",
    "        popup=popup_name,\n",
    "        color= icon_color,\n",
    "        fill=True,\n",
    "        fill_color=icon_color\n",
    "    ).add_to(map)\n",
    "map"
   ]
  },
  {
   "cell_type": "markdown",
   "metadata": {},
   "source": [
    "# 뚜레쥬르, 파리바게뜨 매장 위치 분석"
   ]
  },
  {
   "cell_type": "code",
   "execution_count": null,
   "metadata": {},
   "outputs": [],
   "source": [
    "df_bread = df_seoul.loc[\n",
    "    df_seoul['상호명'].str.contains('뚜레쥬르|파리(바게|크라상)') &\n",
    "    (~df_seoul['상호명'].str.contains('파스쿠찌|잠바주스'))\n",
    "].copy()\n",
    "# 파스쿠찌 상호명에 파리크라상이 들어가기 때문에 파스쿠찌는 제외합니다.\n",
    "df_bread.shape"
   ]
  },
  {
   "cell_type": "code",
   "execution_count": null,
   "metadata": {},
   "outputs": [],
   "source": [
    "df_bread['상호명'].value_counts()"
   ]
  },
  {
   "cell_type": "code",
   "execution_count": null,
   "metadata": {},
   "outputs": [],
   "source": [
    "df_bread.loc[df_bread['상호명'].str.contains('파리(바게|크라상)'), '브랜드명'] = '파리바게뜨'\n",
    "df_bread.loc[df_bread['상호명'].str.contains('뚜레(쥬|주)르'), '브랜드명'] = '뚜레쥬르'"
   ]
  },
  {
   "cell_type": "code",
   "execution_count": null,
   "metadata": {},
   "outputs": [],
   "source": [
    "df_bread_group_count = df_bread['브랜드명'].value_counts()\n",
    "df_bread_group_count"
   ]
  },
  {
   "cell_type": "code",
   "execution_count": null,
   "metadata": {},
   "outputs": [],
   "source": [
    "df_bread.shape"
   ]
  },
  {
   "cell_type": "code",
   "execution_count": null,
   "metadata": {},
   "outputs": [],
   "source": [
    "434 + 194"
   ]
  },
  {
   "cell_type": "code",
   "execution_count": null,
   "metadata": {},
   "outputs": [],
   "source": [
    "df_bread_ratio = df_bread_group_count[0]/df_bread_group_count[1]\n",
    "print('제공된 데이터로 봤을 때 서울에는 파리바게뜨가 뚜레쥬르보다 매장이 {0:.2f}배가량 많습니다.'.format(df_31_ratio))"
   ]
  },
  {
   "cell_type": "code",
   "execution_count": null,
   "metadata": {},
   "outputs": [],
   "source": [
    "798/244"
   ]
  },
  {
   "cell_type": "markdown",
   "metadata": {},
   "source": [
    "### 하지만, 파리바게뜨 홈페이지에서 서울특별시의 매장정보를 보면 798개의 매장이 있습니다. 뚜레쥬르는 244개의 매장이 있습니다.\n",
    "* 파리바게뜨 : https://www.paris.co.kr/store/store_list.jsp?sido=&gugun=&s_sido=%EC%84%9C%EC%9A%B8%ED%8A%B9%EB%B3%84%EC%8B%9C&s_gugun=&s_name=&page=98\n",
    "* 뚜레쥬르 : https://www.tlj.co.kr:7008/store/search.asp?store_type=&sido=%BC%AD%BF%EF%C6%AF%BA%B0%BD%C3&gugun=&keyword="
   ]
  },
  {
   "cell_type": "code",
   "execution_count": null,
   "metadata": {},
   "outputs": [],
   "source": [
    "(ggplot(df_bread)\n",
    " + aes(x='경도', y='위도', color='브랜드명')\n",
    " + geom_point()\n",
    " + theme(text=element_text(family='NanumBarunGothic'))\n",
    " + scale_fill_gradient(low = 'blue', high = 'green') \n",
    ")"
   ]
  },
  {
   "cell_type": "code",
   "execution_count": null,
   "metadata": {},
   "outputs": [],
   "source": [
    "geo_df = df_bread.copy()\n",
    "\n",
    "# 지도를 초기화 해줄 때 어디를 중심으로 보여줄지 설정합니다.\n",
    "# 우리가 가져온 데이터프레임 안에 있는 데이터를 기준으로 출력할 수 있도록 위경도의 평균값을 구해옵니다.\n",
    "map = folium.Map(location=[geo_df['위도'].mean(), geo_df['경도'].mean()], zoom_start=12)\n",
    "\n",
    "for n in geo_df.index:\n",
    "    # 팝업에 들어갈 텍스트를 지정해 줍니다.\n",
    "    popup_name = geo_df['브랜드명'][n] + ' - ' + geo_df['도로명주소'][n]\n",
    "    # 브랜드명에 따라 아이콘 색상을 달리해서 찍어줍니다.\n",
    "    if geo_df['브랜드명'][n] == '뚜레쥬르' :\n",
    "        icon_color = 'green'\n",
    "    else:\n",
    "        icon_color = 'blue'    \n",
    "    \n",
    "    folium.Marker([geo_df['위도'][n], geo_df['경도'][n]], \n",
    "                  popup=popup_name, \n",
    "                  icon=folium.Icon(color=icon_color)).add_to(map)\n",
    "\n",
    "map"
   ]
  },
  {
   "cell_type": "code",
   "execution_count": null,
   "metadata": {},
   "outputs": [],
   "source": [
    "map = folium.Map(location=[geo_df['위도'].mean(), geo_df['경도'].mean()], zoom_start=12, tiles='Stamen Toner')\n",
    "\n",
    "for n in geo_df.index:\n",
    "    # 팝업에 들어갈 텍스트를 지정해 줍니다.\n",
    "    popup_name = geo_df.loc[n, '브랜드명'] + ' - ' + geo_df.loc[n, '도로명주소']\n",
    "    # 브랜드명에 따라 아이콘 색상을 달리해서 찍어줍니다.\n",
    "    if geo_df.loc[n, '브랜드명'] == '뚜레쥬르' :\n",
    "        icon_color = 'green'\n",
    "    else:\n",
    "        icon_color = 'blue'    \n",
    "    \n",
    "    folium.CircleMarker(\n",
    "        location=[geo_df.loc[n,'위도'], geo_df.loc[n, '경도']],\n",
    "        radius=3,\n",
    "        popup=popup_name,\n",
    "        color= icon_color,\n",
    "        fill=True,\n",
    "        fill_color=icon_color\n",
    "    ).add_to(map)\n",
    "\n",
    "map"
   ]
  },
  {
   "cell_type": "markdown",
   "metadata": {},
   "source": [
    "## 스타벅스, 이디야 위치 분석\n",
    "* [[비즈&빅데이터]스타벅스 '쏠림' vs 이디야 '분산'](http://news.bizwatch.co.kr/article/consumer/2018/01/19/0015)"
   ]
  },
  {
   "cell_type": "code",
   "execution_count": null,
   "metadata": {},
   "outputs": [],
   "source": [
    "df_seoul.loc[df_seoul['상호명'].str.contains('스타벅스|starbucks|STARBUCKS'), '상호명'].shape"
   ]
  },
  {
   "cell_type": "code",
   "execution_count": null,
   "metadata": {},
   "outputs": [],
   "source": [
    "df_seoul.loc[df_seoul['상호명'].str.contains('이디야|ediya|EDIYA'), '상호명'].shape"
   ]
  },
  {
   "cell_type": "code",
   "execution_count": null,
   "metadata": {},
   "outputs": [],
   "source": [
    "df_cafe = df_seoul[df_seoul['상호명'].str.contains('스타벅스|starbucks|STARBUCKS|이디야|ediya|EDIYA')]\n",
    "df_cafe.shape"
   ]
  },
  {
   "cell_type": "code",
   "execution_count": null,
   "metadata": {},
   "outputs": [],
   "source": [
    "df_cafe.loc[df_cafe['상호명'].str.contains('스타벅스|starbucks|STARBUCKS'), '브랜드명'] = '스타벅스'"
   ]
  },
  {
   "cell_type": "code",
   "execution_count": null,
   "metadata": {},
   "outputs": [],
   "source": [
    "# df_cafe.loc[~df_cafe['상호명'].str.contains('스타벅스|starbucks|STARBUCKS'), '브랜드명'] = '이디야'"
   ]
  },
  {
   "cell_type": "code",
   "execution_count": null,
   "metadata": {},
   "outputs": [],
   "source": [
    "df_cafe['브랜드명'] = df_cafe['브랜드명'].fillna('이디야')"
   ]
  },
  {
   "cell_type": "code",
   "execution_count": null,
   "metadata": {},
   "outputs": [],
   "source": [
    "df_cafe.loc[df_cafe['브랜드명'].isnull(), '상호명'].head()"
   ]
  },
  {
   "cell_type": "code",
   "execution_count": null,
   "metadata": {},
   "outputs": [],
   "source": [
    "df_cafe[['상호명','브랜드명']].head()"
   ]
  },
  {
   "cell_type": "code",
   "execution_count": null,
   "metadata": {},
   "outputs": [],
   "source": [
    "df_cafe['브랜드명'].value_counts()"
   ]
  },
  {
   "cell_type": "code",
   "execution_count": null,
   "metadata": {},
   "outputs": [],
   "source": [
    "geo_df = df_cafe"
   ]
  },
  {
   "cell_type": "code",
   "execution_count": null,
   "metadata": {},
   "outputs": [],
   "source": [
    "map = folium.Map(location=[geo_df['위도'].mean(), geo_df['경도'].mean()], zoom_start=12, tiles='Stamen Toner')\n",
    "\n",
    "for n in geo_df.index:\n",
    "    # 팝업에 들어갈 텍스트를 지정해 줍니다.\n",
    "    popup_name = geo_df.loc[n, '상호명'] + ' - ' + geo_df.loc[n, '도로명주소']\n",
    "    # 브랜드명에 따라 아이콘 색상을 달리해서 찍어줍니다.\n",
    "    if geo_df.loc[n, '브랜드명'] == '스타벅스' :\n",
    "        icon_color = 'green'\n",
    "    else:\n",
    "        icon_color = 'blue'    \n",
    "    \n",
    "    folium.CircleMarker(\n",
    "        location=[geo_df.loc[n,'위도'], geo_df.loc[n, '경도']],\n",
    "        radius=3,\n",
    "        popup=popup_name,\n",
    "        color= icon_color,\n",
    "        fill=True,\n",
    "        fill_color=icon_color\n",
    "    ).add_to(map)\n",
    "\n",
    "map"
   ]
  },
  {
   "cell_type": "markdown",
   "metadata": {},
   "source": [
    "## 구별 브랜드별 점포수"
   ]
  },
  {
   "cell_type": "code",
   "execution_count": null,
   "metadata": {},
   "outputs": [],
   "source": [
    "df_cafe_brand = pd.DataFrame(\n",
    "    df_cafe.groupby(['시군구명', '브랜드명'])['상호명'].count()\n",
    ").reset_index()\n",
    "df_cafe_brand.columns = ['구', '브랜드명', '매장수']\n",
    "df_cafe_brand"
   ]
  },
  {
   "cell_type": "code",
   "execution_count": null,
   "metadata": {},
   "outputs": [],
   "source": [
    "(ggplot(df_cafe_brand)\n",
    " + aes(x='구', y='매장수', fill='브랜드명')\n",
    " + geom_bar(stat='identity', position='dodge')\n",
    " + ggtitle('구별 스타벅스 이디야 매장수')\n",
    " + theme(text=element_text(family='NanumBarunGothic'),\n",
    "        axis_text_x=element_text(rotation=60), \n",
    "        figure_size=(8, 4))\n",
    ")"
   ]
  },
  {
   "cell_type": "code",
   "execution_count": null,
   "metadata": {},
   "outputs": [],
   "source": [
    "df_cafe.groupby(['시군구명'])['상호명'].count()"
   ]
  },
  {
   "cell_type": "code",
   "execution_count": null,
   "metadata": {},
   "outputs": [],
   "source": [
    "df_cafe_gu = pd.DataFrame(df_cafe.groupby(['시군구명'])['상호명'].count())\n",
    "df_cafe_gu.head()"
   ]
  },
  {
   "cell_type": "markdown",
   "metadata": {},
   "source": [
    "## choropleth 그리기"
   ]
  },
  {
   "cell_type": "markdown",
   "metadata": {},
   "source": [
    "* 구별로 매장수를 표현하기 위해 GeoJSON 파일 로드\n",
    "    * 파일출처 : [southkorea/seoul-maps: Seoul administrative divisions in ESRI Shapefile, GeoJSON and TopoJSON formats.](https://github.com/southkorea/seoul-maps)"
   ]
  },
  {
   "cell_type": "code",
   "execution_count": null,
   "metadata": {},
   "outputs": [],
   "source": [
    "import json\n",
    "\n",
    "geo_path = 'data/seoul_municipalities_geo_simple.json'\n",
    "geo_json = json.load(open(geo_path, encoding='utf-8'))"
   ]
  },
  {
   "cell_type": "markdown",
   "metadata": {},
   "source": [
    "### 스타벅스 이디야 카페 매장 합계 분포"
   ]
  },
  {
   "cell_type": "code",
   "execution_count": null,
   "metadata": {},
   "outputs": [],
   "source": [
    "map = folium.Map(location=[geo_df['위도'].mean(), geo_df['경도'].mean()], \n",
    "                 zoom_start=11)\n",
    "\n",
    "map.choropleth(geo_data = geo_json,\n",
    "               data = df_cafe_gu['상호명'],\n",
    "               columns = [df_cafe_brand.index, df_cafe_gu['상호명']],\n",
    "               fill_color = 'Purples',\n",
    "               key_on = 'feature.properties.name',\n",
    "               fill_opacity=0.7,\n",
    "               line_opacity=0.2,\n",
    "               highlight=True)\n",
    "\n",
    "\n",
    "for n in geo_df.index:\n",
    "    # 팝업에 들어갈 텍스트를 지정해 줍니다.\n",
    "    popup_name = geo_df.loc[n, '상호명'] + ' - ' + geo_df.loc[n, '도로명주소']\n",
    "    # 브랜드명에 따라 아이콘 색상을 달리해서 찍어줍니다.\n",
    "    if geo_df.loc[n, '브랜드명'] == '스타벅스' :\n",
    "        icon_color = 'green'\n",
    "    else:\n",
    "        icon_color = 'blue'    \n",
    "    \n",
    "    folium.CircleMarker(\n",
    "        location=[geo_df.loc[n,'위도'], geo_df.loc[n, '경도']],\n",
    "        radius=3,\n",
    "        popup=popup_name,\n",
    "        color= icon_color,\n",
    "        fill=True,\n",
    "        fill_color=icon_color\n",
    "    ).add_to(map)\n",
    "\n",
    "map"
   ]
  },
  {
   "cell_type": "markdown",
   "metadata": {},
   "source": [
    "### 스타벅스 매장 분포"
   ]
  },
  {
   "cell_type": "code",
   "execution_count": null,
   "metadata": {},
   "outputs": [],
   "source": [
    "df_cafe_temp = df_cafe[df_cafe['브랜드명'] == '스타벅스']\n",
    "df_cafe_starbucks = pd.DataFrame(df_cafe_temp.groupby(['시군구명'])['상호명'].count())\n",
    "df_cafe_starbucks.columns = ['매장수']\n",
    "df_cafe_starbucks.head()"
   ]
  },
  {
   "cell_type": "code",
   "execution_count": null,
   "metadata": {},
   "outputs": [],
   "source": [
    "map = folium.Map(location=[geo_df['위도'].mean(), geo_df['경도'].mean()], \n",
    "                 zoom_start=11, tiles='Stamen Toner')\n",
    "\n",
    "map.choropleth(geo_data = geo_json,\n",
    "               data = df_cafe_starbucks['매장수'],\n",
    "               columns = [df_cafe_starbucks.index, df_cafe_starbucks['매장수']],\n",
    "               fill_color = 'YlGn',\n",
    "               key_on = 'feature.properties.name',\n",
    "               fill_opacity=0.7,\n",
    "               line_opacity=0.2,\n",
    "               highlight=True)\n",
    "\n",
    "\n",
    "for n in geo_df.index:\n",
    "    # 팝업에 들어갈 텍스트를 지정해 줍니다.\n",
    "    popup_name = geo_df.loc[n, '상호명'] + ' - ' + geo_df.loc[n, '도로명주소']\n",
    "    # 브랜드명에 따라 아이콘 색상을 달리해서 찍어줍니다.\n",
    "    if geo_df.loc[n, '브랜드명'] == '스타벅스' :\n",
    "        icon_color = 'green'    \n",
    "    \n",
    "        folium.CircleMarker(\n",
    "            location=[geo_df.loc[n,'위도'], geo_df.loc[n, '경도']],\n",
    "            radius=3,\n",
    "            popup=popup_name,\n",
    "            color= icon_color,\n",
    "            fill=True,\n",
    "            fill_color=icon_color\n",
    "        ).add_to(map)\n",
    "\n",
    "map"
   ]
  },
  {
   "cell_type": "markdown",
   "metadata": {},
   "source": [
    "### 이디야 매장 분포"
   ]
  },
  {
   "cell_type": "code",
   "execution_count": null,
   "metadata": {},
   "outputs": [],
   "source": [
    "df_cafe_temp = df_cafe[df_cafe['브랜드명'] == '이디야']\n",
    "df_cafe_ediya = pd.DataFrame(df_cafe_temp.groupby(['시군구명'])['상호명'].count())\n",
    "df_cafe_ediya.columns = ['매장수']\n",
    "df_cafe_ediya.head()"
   ]
  },
  {
   "cell_type": "code",
   "execution_count": null,
   "metadata": {},
   "outputs": [],
   "source": [
    "map = folium.Map(location=[geo_df['위도'].mean(), geo_df['경도'].mean()], \n",
    "                 zoom_start=11, tiles='Stamen Toner')\n",
    "\n",
    "map.choropleth(geo_data = geo_json,\n",
    "               data = df_cafe_ediya['매장수'],\n",
    "               columns = [df_cafe_ediya.index, df_cafe_ediya['매장수']],\n",
    "               fill_color = 'PuBu',\n",
    "               key_on = 'feature.properties.name',\n",
    "               fill_opacity=0.7,\n",
    "               line_opacity=0.2,\n",
    "               highlight=True)\n",
    "\n",
    "\n",
    "for n in geo_df.index:\n",
    "    # 팝업에 들어갈 텍스트를 지정해 줍니다.\n",
    "    popup_name = geo_df.loc[n, '상호명'] + ' - ' + geo_df.loc[n, '도로명주소']\n",
    "    # 브랜드명에 따라 아이콘 색상을 달리해서 찍어줍니다.\n",
    "    if geo_df.loc[n, '브랜드명'] == '이디야' :\n",
    "        icon_color = 'blue'    \n",
    "    \n",
    "        folium.CircleMarker(\n",
    "            location=[geo_df.loc[n,'위도'], geo_df.loc[n, '경도']],\n",
    "            radius=3,\n",
    "            popup=popup_name,\n",
    "            color= icon_color,\n",
    "            fill=True,\n",
    "            fill_color=icon_color\n",
    "        ).add_to(map)\n",
    "\n",
    "map"
   ]
  },
  {
   "cell_type": "markdown",
   "metadata": {},
   "source": [
    "## 매장수 크기를 반영해 CircleMaker 그리기\n",
    "### Pandas 의 reshaping data 활용하기\n",
    "\n",
    "<img src=\"https://i.imgur.com/IIhU0nF.png\">\n",
    "\n",
    "* 출처 : https://github.com/pandas-dev/pandas/blob/master/doc/cheatsheet/Pandas_Cheat_Sheet.pdf\n",
    "* reshaping 관련 문서 : https://pandas.pydata.org/pandas-docs/stable/user_guide/reshaping.html"
   ]
  },
  {
   "cell_type": "code",
   "execution_count": null,
   "metadata": {},
   "outputs": [],
   "source": [
    "df_cafe_brand.head()"
   ]
  },
  {
   "cell_type": "code",
   "execution_count": null,
   "metadata": {},
   "outputs": [],
   "source": [
    "df_cafe_brand_vs = df_cafe_brand.pivot_table(index='구',\n",
    "                                             columns='브랜드명',\n",
    "                                             values='매장수')\n",
    "df_cafe_brand_vs.columns = ['스타벅스', '이디야']\n",
    "df_cafe_brand_vs.head()"
   ]
  },
  {
   "cell_type": "code",
   "execution_count": null,
   "metadata": {},
   "outputs": [],
   "source": [
    "df_cafe_brand_vs['매장수비교'] = df_cafe_brand_vs.apply( \\\n",
    "    lambda x : 1 if x['스타벅스'] > x['이디야'] else 0, axis=1)\n",
    "df_cafe_brand_vs.head()"
   ]
  },
  {
   "cell_type": "code",
   "execution_count": null,
   "metadata": {},
   "outputs": [],
   "source": [
    "lng_list = []\n",
    "lat_list = []\n",
    "for gu in df_cafe_brand_vs.index:\n",
    "    lat = df_cafe.loc[df_cafe['시군구명'] == gu, '위도'].mean()\n",
    "    lng = df_cafe.loc[df_cafe['시군구명'] == gu, '경도'].mean()\n",
    "    lat_list.append(lat)\n",
    "    lng_list.append(lng)\n",
    "    \n",
    "df_cafe_brand_vs['위도'] = lat_list\n",
    "df_cafe_brand_vs['경도'] = lng_list\n",
    "df_cafe_brand_vs.head()"
   ]
  },
  {
   "cell_type": "code",
   "execution_count": null,
   "metadata": {},
   "outputs": [],
   "source": [
    "# CircleMarker의 radius 지정시 다음과 같은 타입오류가 나서 float type 으로 변경\n",
    "# TypeError: Object of type 'int64' is not JSON serializable\n",
    "\n",
    "df_cafe_brand_vs['스타벅스'] = df_cafe_brand_vs['스타벅스'].astype(float)\n",
    "df_cafe_brand_vs['이디야'] = df_cafe_brand_vs['이디야'].astype(float)\n",
    "df_cafe_brand_vs.info()"
   ]
  },
  {
   "cell_type": "code",
   "execution_count": null,
   "metadata": {},
   "outputs": [],
   "source": [
    "map = folium.Map(location=[geo_df['위도'].mean(), geo_df['경도'].mean()], \n",
    "                 zoom_start=11, tiles='Stamen Toner')\n",
    "\n",
    "map.choropleth(geo_data = geo_json,\n",
    "               data = df_cafe_brand_vs['매장수비교'],\n",
    "               columns = [df_cafe_brand_vs.index, \n",
    "                          df_cafe_brand_vs['매장수비교']],\n",
    "               fill_color = 'BuGn',\n",
    "               key_on = 'feature.properties.name',\n",
    "               fill_opacity=0.7,\n",
    "               line_opacity=0.2,\n",
    "               highlight=True)\n",
    "\n",
    "\n",
    "for gu in df_cafe_brand_vs.index:\n",
    "        \n",
    "    for cafe in ['스타벅스', '이디야']:\n",
    "        \n",
    "        cafe_count = df_cafe_brand_vs.loc[gu, cafe]\n",
    "        msg = f'{gu} {cafe} 매장수 : {cafe_count:.0f}'\n",
    "        \n",
    "        icon_color = 'blue'\n",
    "        if cafe == '스타벅스': \n",
    "            icon_color = 'green'\n",
    "        \n",
    "        folium.CircleMarker(\n",
    "            location = [df_cafe_brand_vs.loc[gu,'위도'], \n",
    "                      df_cafe_brand_vs.loc[gu, '경도']],\n",
    "            radius = cafe_count,\n",
    "            color = icon_color,\n",
    "            popup = msg,\n",
    "            fill = True,\n",
    "            fill_color = icon_color\n",
    "        ).add_to(map)\n",
    "\n",
    "map"
   ]
  },
  {
   "cell_type": "markdown",
   "metadata": {},
   "source": [
    "#### 지도 출력 시 색상 참고\n",
    "* http://colorbrewer2.org/"
   ]
  },
  {
   "cell_type": "markdown",
   "metadata": {},
   "source": [
    "## folium 공부를 위해 더 읽어보면 좋을 것 \n",
    "* https://nbviewer.jupyter.org/github/python-visualization/folium/tree/master/examples/\n",
    "* https://python-visualization.github.io/folium/quickstart.html#Choropleth-maps\n",
    "* [PinkWink의 데이터 사이언스 관련 책 - 파이썬으로 데이터 주무르기](https://pinkwink.kr/1070)"
   ]
  },
  {
   "cell_type": "markdown",
   "metadata": {},
   "source": [
    "## 카토그램 \n",
    "* [총선⑫ 인구 비례로 본 당선 지도…‘카토그램’으로 살펴본 당선 현황 > 데이터룸 > 정치 > 뉴스 | KBSNEWS](http://news.kbs.co.kr/news/view.do?ncd=3264019)\n",
    "* [The Housing Value of Every County in the U.S. - Metrocosm](http://metrocosm.com/the-housing-value-of-every-county-in-the-u-s/)"
   ]
  },
  {
   "cell_type": "code",
   "execution_count": null,
   "metadata": {},
   "outputs": [],
   "source": []
  }
 ],
 "metadata": {
  "kernelspec": {
   "display_name": "Python 3",
   "language": "python",
   "name": "python3"
  },
  "language_info": {
   "codemirror_mode": {
    "name": "ipython",
    "version": 3
   },
   "file_extension": ".py",
   "mimetype": "text/x-python",
   "name": "python",
   "nbconvert_exporter": "python",
   "pygments_lexer": "ipython3",
   "version": "3.7.0"
  }
 },
 "nbformat": 4,
 "nbformat_minor": 2
}
